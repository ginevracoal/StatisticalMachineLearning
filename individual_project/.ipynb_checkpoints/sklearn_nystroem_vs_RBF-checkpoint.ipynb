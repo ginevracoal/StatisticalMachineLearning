{
 "cells": [
  {
   "cell_type": "markdown",
   "metadata": {},
   "source": [
    "## RBF vs Nystroem kernel approximation"
   ]
  },
  {
   "cell_type": "code",
   "execution_count": 1,
   "metadata": {},
   "outputs": [],
   "source": [
    "import matplotlib.pyplot as plt\n",
    "import numpy as np\n",
    "import pandas as pd\n",
    "from time import time\n",
    "\n",
    "# ignore warnings\n",
    "import warnings\n",
    "warnings.filterwarnings('ignore')"
   ]
  },
  {
   "cell_type": "code",
   "execution_count": 2,
   "metadata": {},
   "outputs": [],
   "source": [
    "from sklearn import svm, pipeline\n",
    "from sklearn.kernel_approximation import (RBFSampler,Nystroem)\n",
    "# from sklearn.decomposition import PCA\n",
    "from sklearn import datasets"
   ]
  },
  {
   "cell_type": "code",
   "execution_count": 3,
   "metadata": {},
   "outputs": [
    {
     "name": "stdout",
     "output_type": "stream",
     "text": [
      "(1617, 64)\n"
     ]
    }
   ],
   "source": [
    "# load digits dataset\n",
    "\n",
    "digits = datasets.load_digits(n_class=9)\n",
    "# digits = datasets.fetch_mldata(\"MNIST original\")\n",
    "\n",
    "print(digits.data.shape)\n",
    "# plt.matshow(digits.images[0])\n",
    "# it contains 1617 images of digits. \n",
    "# Each image is represented by an 8x8 matrix."
   ]
  },
  {
   "cell_type": "code",
   "execution_count": 4,
   "metadata": {},
   "outputs": [],
   "source": [
    "n_samples = len(digits.data)\n",
    "# normalize data: here pixels have values between 0 and 16\n",
    "\n",
    "data = digits.data / 16.\n",
    "# each image is a row vector with 64 entries.\n",
    "# we take the mean of each column, which gives 64 means (one over each component of the image)\n",
    "mean = data.mean(axis=0)\n",
    "len(mean)\n",
    "\n",
    "# averaging\n",
    "data -= mean"
   ]
  },
  {
   "cell_type": "code",
   "execution_count": 5,
   "metadata": {},
   "outputs": [],
   "source": [
    "# train-test half split \n",
    "train_data, train_labels = (data[:n_samples // 2], digits.target[:n_samples // 2])\n",
    "test_data, test_labels = (data[n_samples // 2:], digits.target[n_samples // 2:])"
   ]
  },
  {
   "cell_type": "code",
   "execution_count": 6,
   "metadata": {},
   "outputs": [],
   "source": [
    "# SVM classifiers\n",
    "gamma = 0.5\n",
    "kernel_svm = svm.SVC(kernel='rbf', gamma=gamma)\n",
    "linear_svm = svm.SVC(kernel='linear')"
   ]
  },
  {
   "cell_type": "code",
   "execution_count": 7,
   "metadata": {},
   "outputs": [],
   "source": [
    "# the two methods\n",
    "random_fourier = RBFSampler(gamma=gamma, random_state=1)\n",
    "nystroem = Nystroem(gamma=gamma, random_state=1)\n",
    "\n",
    "# pipelines for kernel approxixmations\n",
    "fourier_svm = pipeline.Pipeline([(\"feature_map\", random_fourier),(\"svm\", linear_svm)])\n",
    "nystroem_svm = pipeline.Pipeline([(\"feature_map\", nystroem),(\"svm\", linear_svm)])"
   ]
  },
  {
   "cell_type": "code",
   "execution_count": 8,
   "metadata": {},
   "outputs": [],
   "source": [
    "# fit and predict linear and kernel SVMs\n",
    "start = time()\n",
    "kernel_svm.fit(train_data, train_labels)\n",
    "kernel_svm_score = kernel_svm.score(test_data,test_labels)\n",
    "kernel_svm_time = time() - start\n",
    "\n",
    "start = time()\n",
    "linear_svm.fit(train_data, train_labels)\n",
    "linear_svm_score = linear_svm.score(test_data, test_labels)\n",
    "linear_svm_time = time() - start"
   ]
  },
  {
   "cell_type": "code",
   "execution_count": 9,
   "metadata": {},
   "outputs": [
    {
     "name": "stdout",
     "output_type": "stream",
     "text": [
      "             time           accuracy\n",
      "kernel 0.13774418830871582 0.9715698393077874\n",
      "linear 0.0271604061126709 0.9493201483312732\n"
     ]
    }
   ],
   "source": [
    "print(\"      \",\"      time        \", \"  accuracy\")\n",
    "print(\"kernel\",kernel_svm_time, kernel_svm_score)\n",
    "print(\"linear\",linear_svm_time, linear_svm_score)"
   ]
  },
  {
   "cell_type": "code",
   "execution_count": 10,
   "metadata": {},
   "outputs": [
    {
     "data": {
      "text/plain": [
       "array([ 30,  60,  90, 120, 150, 180, 210, 240, 270])"
      ]
     },
     "execution_count": 10,
     "metadata": {},
     "output_type": "execute_result"
    }
   ],
   "source": [
    "# number of random samples\n",
    "sample_sizes = 30 * np.arange(1,10)\n",
    "sample_sizes"
   ]
  },
  {
   "cell_type": "code",
   "execution_count": 11,
   "metadata": {},
   "outputs": [
    {
     "data": {
      "text/plain": [
       "[0.7985166872682324,\n",
       " 0.9011124845488258,\n",
       " 0.9208899876390606,\n",
       " 0.9208899876390606,\n",
       " 0.9505562422744128,\n",
       " 0.9530284301606922,\n",
       " 0.9480840543881335,\n",
       " 0.9592088998763906,\n",
       " 0.9567367119901112]"
      ]
     },
     "execution_count": 11,
     "metadata": {},
     "output_type": "execute_result"
    }
   ],
   "source": [
    "nystroem_scores = []\n",
    "nystroem_times = []\n",
    "\n",
    "for D in sample_sizes:\n",
    "    # set the number of samples\n",
    "    nystroem_svm.set_params(feature_map__n_components=D)\n",
    "    \n",
    "    start = time()\n",
    "    nystroem_svm.fit(train_data, train_labels)\n",
    "    nystroem_times.append(time() - start)\n",
    "\n",
    "    nystroem_score = nystroem_svm.score(test_data, test_labels)\n",
    "    nystroem_scores.append(nystroem_score)\n",
    "    \n",
    "nystroem_scores"
   ]
  },
  {
   "cell_type": "code",
   "execution_count": 12,
   "metadata": {},
   "outputs": [
    {
     "data": {
      "text/plain": [
       "[0.5661310259579728,\n",
       " 0.6872682323856613,\n",
       " 0.7787391841779975,\n",
       " 0.7700865265760197,\n",
       " 0.8405438813349815,\n",
       " 0.8491965389369592,\n",
       " 0.8739184177997528,\n",
       " 0.8912237330037083,\n",
       " 0.9023485784919654]"
      ]
     },
     "execution_count": 12,
     "metadata": {},
     "output_type": "execute_result"
    }
   ],
   "source": [
    "fourier_scores = []\n",
    "fourier_times = []\n",
    "\n",
    "for D in sample_sizes:\n",
    "    fourier_svm.set_params(feature_map__n_components=D)\n",
    "\n",
    "    start = time()\n",
    "    fourier_svm.fit(train_data, train_labels)\n",
    "    fourier_times.append(time() - start)\n",
    "\n",
    "    fourier_score = fourier_svm.score(test_data, test_labels)\n",
    "    fourier_scores.append(fourier_score)\n",
    "\n",
    "fourier_scores"
   ]
  },
  {
   "cell_type": "code",
   "execution_count": 13,
   "metadata": {},
   "outputs": [
    {
     "data": {
      "image/png": "[encoded data removed]",
      "text/plain": [
       "<matplotlib.figure.Figure at 0x7f449efdd470>"
      ]
     },
     "metadata": {},
     "output_type": "display_data"
    }
   ],
   "source": [
    "# plot the results\n",
    "plt.figure(figsize=(8, 8))\n",
    "\n",
    "accuracy = plt.subplot(211)\n",
    "# second y axis for timings\n",
    "timescale = plt.subplot(212)\n",
    "\n",
    "accuracy.plot(sample_sizes, nystroem_scores, label=\"Nystroem approx. kernel\")\n",
    "timescale.plot(sample_sizes, nystroem_times, '--',\n",
    "               label='Nystroem approx. kernel')\n",
    "\n",
    "accuracy.plot(sample_sizes, fourier_scores, label=\"Fourier approx. kernel\")\n",
    "timescale.plot(sample_sizes, fourier_times, '--',\n",
    "               label='Fourier approx. kernel')\n",
    "\n",
    "# horizontal lines for exact rbf and linear kernels:\n",
    "accuracy.plot([sample_sizes[0], sample_sizes[-1]],\n",
    "              [linear_svm_score, linear_svm_score], label=\"linear svm\")\n",
    "timescale.plot([sample_sizes[0], sample_sizes[-1]],\n",
    "               [linear_svm_time, linear_svm_time], '--', label='linear svm')\n",
    "\n",
    "accuracy.plot([sample_sizes[0], sample_sizes[-1]],\n",
    "              [kernel_svm_score, kernel_svm_score], label=\"rbf svm\")\n",
    "timescale.plot([sample_sizes[0], sample_sizes[-1]],\n",
    "               [kernel_svm_time, kernel_svm_time], '--', label='rbf svm')\n",
    "\n",
    "# vertical line for dataset dimensionality = 64\n",
    "# accuracy.plot([64, 64], [0.7, 1], label=\"n_features\")\n",
    "\n",
    "# legends and labels\n",
    "accuracy.set_title(\"Classification accuracy\")\n",
    "timescale.set_title(\"Training times\")\n",
    "accuracy.set_xlim(sample_sizes[0], sample_sizes[-1])\n",
    "# accuracy.set_xticks(())\n",
    "accuracy.set_ylim(np.min(fourier_scores), 1)\n",
    "timescale.set_xlabel(\"Sampling steps = transformed feature dimension\")\n",
    "accuracy.set_ylabel(\"Classification accuracy\")\n",
    "timescale.set_ylabel(\"Training time in seconds\")\n",
    "accuracy.legend(loc='best')\n",
    "timescale.legend(loc='best')\n",
    "\n",
    "plt.show()"
   ]
  },
  {
   "cell_type": "markdown",
   "metadata": {},
   "source": [
    "## MNIST original\n",
    "\n",
    "Following this: https://machinelearningmastery.com/handwritten-digit-recognition-using-convolutional-neural-networks-python-keras/\n"
   ]
  },
  {
   "cell_type": "code",
   "execution_count": 92,
   "metadata": {},
   "outputs": [
    {
     "name": "stdout",
     "output_type": "stream",
     "text": [
      "(60000, 28, 28)\n",
      "(60000, 784)\n"
     ]
    }
   ],
   "source": [
    "from keras.datasets import mnist\n",
    "(X_train, y_train), (X_test, y_test) = mnist.load_data()\n",
    "digits = X_train\n",
    "\n",
    "print(X_train.shape)\n",
    "\n",
    "# flatten 28*28 images to a 784 vector for each image\n",
    "num_pixels = X_train.shape[1] * X_train.shape[2]\n",
    "\n",
    "X_train = X_train.reshape(X_train.shape[0], num_pixels).astype('float32')\n",
    "X_test = X_test.reshape(X_test.shape[0], num_pixels).astype('float32')\n",
    "\n",
    "print(X_train.shape)\n",
    "# normalize from 0-255 to 0-1\n",
    "X_train = X_train / 255\n",
    "X_test = X_test / 255\n",
    "\n",
    "# now to -1 - 1\n",
    "train_mean = X_train.mean(axis=0)\n",
    "test_mean = X_test.mean(axis=0)\n",
    "\n",
    "X_train -= train_mean\n",
    "X_test -= test_mean"
   ]
  },
  {
   "cell_type": "code",
   "execution_count": 93,
   "metadata": {},
   "outputs": [
    {
     "name": "stdout",
     "output_type": "stream",
     "text": [
      "60000 10000\n",
      "5000 1000\n"
     ]
    }
   ],
   "source": [
    "print(X_train.shape[0],X_test.shape[0])\n",
    "\n",
    "# still taking a subset on my machine...\n",
    "# PROVARE CON TUTTO IL DATASET SU CINECA (appena ho l'accesso)\n",
    "X_train = X_train[:5000]\n",
    "y_train = y_train[:5000]\n",
    "X_test = X_test[:1000]\n",
    "y_test = y_test[:1000]\n",
    "\n",
    "print(X_train.shape[0],X_test.shape[0])"
   ]
  },
  {
   "cell_type": "code",
   "execution_count": 81,
   "metadata": {},
   "outputs": [],
   "source": [
    "# # fit and predict linear and kernel SVMs\n",
    "# start = time()\n",
    "# kernel_svm.fit(X_train, y_train)\n",
    "# kernel_svm_score = kernel_svm.score(X_test,y_test)\n",
    "# kernel_svm_time = time() - start\n",
    "\n",
    "# start = time()\n",
    "# linear_svm.fit(X_train, y_train)\n",
    "# linear_svm_score = linear_svm.score(X_test,y_test)\n",
    "# linear_svm_time = time() - start"
   ]
  },
  {
   "cell_type": "code",
   "execution_count": 94,
   "metadata": {},
   "outputs": [
    {
     "data": {
      "text/plain": [
       "array([ 50, 100, 150, 200, 250, 300, 350, 400, 450])"
      ]
     },
     "execution_count": 94,
     "metadata": {},
     "output_type": "execute_result"
    }
   ],
   "source": [
    "# number of random samples\n",
    "sample_sizes = 50 * np.arange(1,10)\n",
    "sample_sizes"
   ]
  },
  {
   "cell_type": "code",
   "execution_count": 95,
   "metadata": {},
   "outputs": [
    {
     "data": {
      "text/plain": [
       "[0.126, 0.126, 0.126, 0.126, 0.17, 0.125, 0.13, 0.121, 0.121]"
      ]
     },
     "execution_count": 95,
     "metadata": {},
     "output_type": "execute_result"
    }
   ],
   "source": [
    "# nystroem_scores = []\n",
    "# nystroem_times = []\n",
    "\n",
    "# for D in sample_sizes:\n",
    "#     # set the number of samples\n",
    "#     nystroem_svm.set_params(feature_map__n_components=D)\n",
    "\n",
    "#     start = time()\n",
    "#     nystroem_svm.fit(X_train, y_train)\n",
    "#     nystroem_times.append(time() - start)\n",
    "\n",
    "#     nystroem_score = nystroem_svm.score(X_test, y_test)\n",
    "#     nystroem_scores.append(nystroem_score)\n",
    "    \n",
    "# nystroem_scores"
   ]
  },
  {
   "cell_type": "code",
   "execution_count": 85,
   "metadata": {},
   "outputs": [
    {
     "data": {
      "text/plain": [
       "[0.124, 0.122, 0.106, 0.124, 0.092, 0.14, 0.11, 0.086, 0.12]"
      ]
     },
     "execution_count": 85,
     "metadata": {},
     "output_type": "execute_result"
    }
   ],
   "source": [
    "# fourier_scores = []\n",
    "# fourier_times = []\n",
    "\n",
    "# for D in sample_sizes:\n",
    "#     fourier_svm.set_params(feature_map__n_components=D)\n",
    "\n",
    "#     start = time()\n",
    "#     fourier_svm.fit(X_train, y_train)\n",
    "#     fourier_times.append(time() - start)\n",
    "\n",
    "#     fourier_score = fourier_svm.score(X_test, y_test)\n",
    "#     fourier_scores.append(fourier_score)\n",
    "\n",
    "# fourier_scores"
   ]
  },
  {
   "cell_type": "code",
   "execution_count": 41,
   "metadata": {},
   "outputs": [
    {
     "data": {
      "image/png": "[encoded data removed]",
      "text/plain": [
       "<matplotlib.figure.Figure at 0x7f231399f940>"
      ]
     },
     "metadata": {},
     "output_type": "display_data"
    }
   ],
   "source": [
    "# plot the results\n",
    "plt.figure(figsize=(8, 8))\n",
    "accuracy = plt.subplot(211)\n",
    "# second y axis for timings\n",
    "timescale = plt.subplot(212)\n",
    "\n",
    "accuracy.plot(sample_sizes, nystroem_scores, label=\"Nystroem approx. kernel\")\n",
    "timescale.plot(sample_sizes, nystroem_times, '--',\n",
    "               label='Nystroem approx. kernel')\n",
    "\n",
    "accuracy.plot(sample_sizes, fourier_scores, label=\"Fourier approx. kernel\")\n",
    "timescale.plot(sample_sizes, fourier_times, '--',\n",
    "               label='Fourier approx. kernel')\n",
    "\n",
    "# horizontal lines for exact rbf and linear kernels:\n",
    "accuracy.plot([sample_sizes[0], sample_sizes[-1]],\n",
    "              [linear_svm_score, linear_svm_score], label=\"linear svm\")\n",
    "timescale.plot([sample_sizes[0], sample_sizes[-1]],\n",
    "               [linear_svm_time, linear_svm_time], '--', label='linear svm')\n",
    "\n",
    "accuracy.plot([sample_sizes[0], sample_sizes[-1]],\n",
    "              [kernel_svm_score, kernel_svm_score], label=\"rbf svm\")\n",
    "timescale.plot([sample_sizes[0], sample_sizes[-1]],\n",
    "               [kernel_svm_time, kernel_svm_time], '--', label='rbf svm')\n",
    "\n",
    "# vertical line for dataset dimensionality = 64\n",
    "# accuracy.plot([64, 64], [0.7, 1], label=\"n_features\")\n",
    "\n",
    "# legends and labels\n",
    "accuracy.set_title(\"Classification accuracy\")\n",
    "timescale.set_title(\"Training times\")\n",
    "accuracy.set_xlim(sample_sizes[0], sample_sizes[-1])\n",
    "accuracy.set_ylim(np.min(fourier_scores), 1)\n",
    "timescale.set_xlabel(\"Sampling steps = transformed feature dimension\")\n",
    "accuracy.set_ylabel(\"Classification accuracy\")\n",
    "timescale.set_ylabel(\"Training time in seconds\")\n",
    "accuracy.legend(loc='best')\n",
    "timescale.legend(loc='best')\n",
    "\n",
    "plt.show()"
   ]
  }
 ],
 "metadata": {
  "anaconda-cloud": {},
  "kernelspec": {
   "display_name": "Python [default]",
   "language": "python",
   "name": "python3"
  },
  "language_info": {
   "codemirror_mode": {
    "name": "ipython",
    "version": 3
   },
   "file_extension": ".py",
   "mimetype": "text/x-python",
   "name": "python",
   "nbconvert_exporter": "python",
   "pygments_lexer": "ipython3",
   "version": "3.5.2"
  }
 },
 "nbformat": 4,
 "nbformat_minor": 2
}
