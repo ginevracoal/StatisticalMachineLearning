{
 "cells": [
  {
   "cell_type": "markdown",
   "metadata": {},
   "source": [
    "## RBF vs Nystroem kernel approximation"
   ]
  },
  {
   "cell_type": "code",
   "execution_count": 2,
   "metadata": {},
   "outputs": [],
   "source": [
    "import matplotlib.pyplot as plt\n",
    "import numpy as np\n",
    "import pandas as pd\n",
    "from time import time\n",
    "\n",
    "# ignore warnings\n",
    "import warnings\n",
    "warnings.filterwarnings('ignore')"
   ]
  },
  {
   "cell_type": "code",
   "execution_count": 3,
   "metadata": {},
   "outputs": [],
   "source": [
    "from sklearn import svm, pipeline\n",
    "from sklearn.kernel_approximation import (RBFSampler,Nystroem)\n",
    "# from sklearn.decomposition import PCA\n",
    "from sklearn import datasets"
   ]
  },
  {
   "cell_type": "code",
   "execution_count": 4,
   "metadata": {},
   "outputs": [
    {
     "name": "stderr",
     "output_type": "stream",
     "text": [
      "Using TensorFlow backend.\n"
     ]
    }
   ],
   "source": [
    "from keras.datasets import mnist"
   ]
  },
  {
   "cell_type": "markdown",
   "metadata": {},
   "source": [
    "## Define classifiers"
   ]
  },
  {
   "cell_type": "code",
   "execution_count": 5,
   "metadata": {},
   "outputs": [],
   "source": [
    "# SVM classifiers\n",
    "gamma = 0.5\n",
    "kernel_svm = svm.SVC(kernel='rbf', gamma=gamma)\n",
    "linear_svm = svm.SVC(kernel='linear')"
   ]
  },
  {
   "cell_type": "code",
   "execution_count": 6,
   "metadata": {},
   "outputs": [],
   "source": [
    "# the two methods\n",
    "random_fourier = RBFSampler(gamma=gamma, random_state=1)\n",
    "nystroem = Nystroem(gamma=gamma, random_state=1)\n",
    "\n",
    "# pipelines for kernel approxixmations\n",
    "fourier_svm = pipeline.Pipeline([(\"feature_map\", random_fourier),(\"svm\", linear_svm)])\n",
    "nystroem_svm = pipeline.Pipeline([(\"feature_map\", nystroem),(\"svm\", linear_svm)])"
   ]
  },
  {
   "cell_type": "markdown",
   "metadata": {},
   "source": [
    "## Fitting functions"
   ]
  },
  {
   "cell_type": "code",
   "execution_count": 7,
   "metadata": {},
   "outputs": [],
   "source": [
    "# fit and predict linear and kernel SVMs\n",
    "\n",
    "def kernel(train_data, train_labels, test_data, test_labels):\n",
    "    start = time()\n",
    "    kernel_svm.fit(train_data, train_labels)\n",
    "    kernel_svm_score = kernel_svm.score(test_data,test_labels)\n",
    "    kernel_svm_time = time() - start\n",
    "    return({'score':kernel_svm_score, 'time':kernel_svm_time})\n",
    "\n",
    "def linear(train_data, train_labels, test_data, test_labels):\n",
    "    start = time()\n",
    "    linear_svm.fit(train_data, train_labels)\n",
    "    linear_svm_score = linear_svm.score(test_data, test_labels)\n",
    "    linear_svm_time = time() - start\n",
    "    return ({'score':linear_svm_score, 'time':linear_svm_time})"
   ]
  },
  {
   "cell_type": "code",
   "execution_count": 19,
   "metadata": {},
   "outputs": [],
   "source": [
    "# number of random samples\n",
    "def samples(train_data):\n",
    "    samples = len(train_data)//20 * np.arange(1,10)\n",
    "    return(samples)"
   ]
  },
  {
   "cell_type": "code",
   "execution_count": 21,
   "metadata": {},
   "outputs": [],
   "source": [
    "def nystroem(train_data, train_labels, test_data, test_labels):\n",
    "    \n",
    "    nystroem_scores = []\n",
    "    nystroem_times = []\n",
    "    sample_sizes = samples(train_data)\n",
    "\n",
    "    for D in sample_sizes:\n",
    "        # set the number of samples\n",
    "        nystroem_svm.set_params(feature_map__n_components=D)\n",
    "\n",
    "        start = time()\n",
    "        nystroem_svm.fit(train_data, train_labels)\n",
    "        nystroem_times.append(time() - start)\n",
    "\n",
    "        nystroem_score = nystroem_svm.score(test_data, test_labels)\n",
    "        nystroem_scores.append(nystroem_score)\n",
    "    \n",
    "    return({'scores':nystroem_scores, 'times':nystroem_times})"
   ]
  },
  {
   "cell_type": "code",
   "execution_count": 22,
   "metadata": {},
   "outputs": [],
   "source": [
    "def fourier(train_data, train_labels, test_data, test_labels):\n",
    "\n",
    "    fourier_scores = []\n",
    "    fourier_times = []\n",
    "    sample_sizes = samples(train_data)\n",
    "\n",
    "    for D in sample_sizes:\n",
    "        fourier_svm.set_params(feature_map__n_components=D)\n",
    "\n",
    "        start = time()\n",
    "        fourier_svm.fit(train_data, train_labels)\n",
    "        fourier_times.append(time() - start)\n",
    "\n",
    "        fourier_score = fourier_svm.score(test_data, test_labels)\n",
    "        fourier_scores.append(fourier_score)\n",
    "\n",
    "    return({'scores':fourier_scores, 'times':fourier_times})"
   ]
  },
  {
   "cell_type": "code",
   "execution_count": 11,
   "metadata": {},
   "outputs": [],
   "source": [
    "def fit_all(train_data, train_labels, test_data, test_labels):\n",
    "    \n",
    "    kernel_out = kernel(train_data, train_labels, test_data, test_labels)\n",
    "    linear_out = linear(train_data, train_labels, test_data, test_labels)\n",
    "    nystroem_out = nystroem(train_data, train_labels, test_data, test_labels)\n",
    "    fourier_out = fourier(train_data, train_labels, test_data, test_labels)\n",
    "    \n",
    "    return({'kernel':kernel_out, 'linear':linear_out, 'nystroem':nystroem_out, 'fourier':fourier_out})"
   ]
  },
  {
   "cell_type": "markdown",
   "metadata": {},
   "source": [
    "## plot"
   ]
  },
  {
   "cell_type": "code",
   "execution_count": 26,
   "metadata": {},
   "outputs": [],
   "source": [
    "# takes a fit_all argument\n",
    "def plot(fit):\n",
    "    \n",
    "    kernel = fit['kernel']\n",
    "    linear = fit['linear']\n",
    "    nystroem = fit['nystroem']\n",
    "    fourier = fit['fourier']\n",
    "    \n",
    "    kernel_svm_score = kernel['score']\n",
    "    linear_svm_score = linear['score']\n",
    "    nystroem_scores = nystroem['scores']\n",
    "    fourier_scores = fourier['scores']\n",
    "    \n",
    "    kernel_svm_time = kernel['time']\n",
    "    linear_svm_time = linear['time']\n",
    "    nystroem_times = nystroem['times']\n",
    "    fourier_times = fourier['times']\n",
    "    \n",
    "    sample_sizes = samples(train_data)\n",
    "    \n",
    "    # plot the results\n",
    "    plt.figure(figsize=(8, 8))\n",
    "\n",
    "    accuracy = plt.subplot(211)\n",
    "    # second y axis for timings\n",
    "    timescale = plt.subplot(212)\n",
    "\n",
    "    accuracy.plot(sample_sizes, nystroem_scores, label=\"Nystroem approx. kernel\")\n",
    "    timescale.plot(sample_sizes, nystroem_times, '--',\n",
    "                   label='Nystroem approx. kernel')\n",
    "\n",
    "    accuracy.plot(sample_sizes, fourier_scores, label=\"Fourier approx. kernel\")\n",
    "    timescale.plot(sample_sizes, fourier_times, '--',\n",
    "                   label='Fourier approx. kernel')\n",
    "\n",
    "    # horizontal lines for exact rbf and linear kernels:\n",
    "    accuracy.plot([sample_sizes[0], sample_sizes[-1]],\n",
    "                  [linear_svm_score, linear_svm_score], label=\"linear svm\")\n",
    "    timescale.plot([sample_sizes[0], sample_sizes[-1]],\n",
    "                   [linear_svm_time, linear_svm_time], '--', label='linear svm')\n",
    "\n",
    "    accuracy.plot([sample_sizes[0], sample_sizes[-1]],\n",
    "                  [kernel_svm_score, kernel_svm_score], label=\"rbf svm\")\n",
    "    timescale.plot([sample_sizes[0], sample_sizes[-1]],\n",
    "                   [kernel_svm_time, kernel_svm_time], '--', label='rbf svm')\n",
    "\n",
    "    # vertical line for dataset dimensionality = 64\n",
    "    # accuracy.plot([64, 64], [0.7, 1], label=\"n_features\")\n",
    "\n",
    "    # legends and labels\n",
    "    accuracy.set_title(\"Classification accuracy\")\n",
    "    timescale.set_title(\"Training times\")\n",
    "    accuracy.set_xlim(sample_sizes[0], sample_sizes[-1])\n",
    "    # accuracy.set_xticks(())\n",
    "    accuracy.set_ylim(np.min(fourier_scores), 1)\n",
    "    timescale.set_xlabel(\"Sampling steps = transformed feature dimension\")\n",
    "    accuracy.set_ylabel(\"Classification accuracy\")\n",
    "    timescale.set_ylabel(\"Training time in seconds\")\n",
    "    accuracy.legend(loc='best')\n",
    "    timescale.legend(loc='best')\n",
    "\n",
    "    plt.show()"
   ]
  },
  {
   "cell_type": "markdown",
   "metadata": {},
   "source": [
    "## Small MNIST"
   ]
  },
  {
   "cell_type": "code",
   "execution_count": 13,
   "metadata": {},
   "outputs": [
    {
     "name": "stdout",
     "output_type": "stream",
     "text": [
      "(1617, 64)\n"
     ]
    }
   ],
   "source": [
    "# load digits dataset\n",
    "\n",
    "digits = datasets.load_digits(n_class=9)\n",
    "# digits = datasets.fetch_mldata(\"MNIST original\")\n",
    "\n",
    "print(digits.data.shape)\n",
    "# plt.matshow(digits.images[0])\n",
    "# it contains 1617 images of digits. \n",
    "# Each image is represented by an 8x8 matrix."
   ]
  },
  {
   "cell_type": "code",
   "execution_count": 14,
   "metadata": {},
   "outputs": [],
   "source": [
    "n_samples = len(digits.data)\n",
    "# normalize data: here pixels have values between 0 and 16\n",
    "\n",
    "data = digits.data / 16.\n",
    "# each image is a row vector with 64 entries.\n",
    "# we take the mean of each column, which gives 64 means (one over each component of the image)\n",
    "mean = data.mean(axis=0)\n",
    "len(mean)\n",
    "\n",
    "# averaging\n",
    "data -= mean"
   ]
  },
  {
   "cell_type": "code",
   "execution_count": 15,
   "metadata": {},
   "outputs": [],
   "source": [
    "# train-test half split \n",
    "train_data, train_labels = (data[:n_samples // 2], digits.target[:n_samples // 2])\n",
    "test_data, test_labels = (data[n_samples // 2:], digits.target[n_samples // 2:])"
   ]
  },
  {
   "cell_type": "code",
   "execution_count": 24,
   "metadata": {},
   "outputs": [],
   "source": [
    "small_mnist_fit = fit_all(train_data, train_labels, test_data, test_labels)"
   ]
  },
  {
   "cell_type": "code",
   "execution_count": 27,
   "metadata": {},
   "outputs": [
    {
     "data": {
      "image/png": "[encoded data removed]",
      "text/plain": [
       "<Figure size 576x576 with 2 Axes>"
      ]
     },
     "metadata": {},
     "output_type": "display_data"
    }
   ],
   "source": [
    "plot(small_mnist_fit)"
   ]
  },
  {
   "cell_type": "markdown",
   "metadata": {},
   "source": [
    "## MNIST original\n",
    "\n",
    "Following this: https://machinelearningmastery.com/handwritten-digit-recognition-using-convolutional-neural-networks-python-keras/\n"
   ]
  },
  {
   "cell_type": "code",
   "execution_count": 6,
   "metadata": {},
   "outputs": [
    {
     "name": "stdout",
     "output_type": "stream",
     "text": [
      "(60000, 28, 28)\n",
      "(60000, 784)\n"
     ]
    }
   ],
   "source": [
    "\n",
    "(X_train, y_train), (X_test, y_test) = mnist.load_data()\n",
    "digits = X_train\n",
    "\n",
    "print(X_train.shape)\n",
    "\n",
    "# flatten 28*28 images to a 784 vector for each image\n",
    "num_pixels = X_train.shape[1] * X_train.shape[2]\n",
    "\n",
    "X_train = X_train.reshape(X_train.shape[0], num_pixels).astype('float32')\n",
    "X_test = X_test.reshape(X_test.shape[0], num_pixels).astype('float32')\n",
    "\n",
    "print(X_train.shape)\n",
    "# normalize from 0-255 to 0-1\n",
    "X_train = X_train / 255\n",
    "X_test = X_test / 255\n",
    "\n",
    "# now to -1 - 1\n",
    "train_mean = X_train.mean(axis=0)\n",
    "test_mean = X_test.mean(axis=0)\n",
    "\n",
    "X_train -= train_mean\n",
    "X_test -= test_mean\n",
    "\n",
    "\n",
    "# not taking the whole dataset\n",
    "X_train = X_train[:8000]\n",
    "y_train = y_train[:8000]\n",
    "X_test = X_test[:1000]\n",
    "y_test = y_test[:1000]\n",
    "\n",
    "print(X_train.shape[0],X_test.shape[0])"
   ]
  },
  {
   "cell_type": "code",
   "execution_count": 27,
   "metadata": {},
   "outputs": [],
   "source": [
    "# fit and predict linear and kernel SVMs\n",
    "start = time()\n",
    "kernel_svm.fit(X_train, y_train)\n",
    "kernel_svm_score = kernel_svm.score(X_test,y_test)\n",
    "kernel_svm_time = time() - start\n",
    "\n",
    "start = time()\n",
    "linear_svm.fit(X_train, y_train)\n",
    "linear_svm_score = linear_svm.score(X_test,y_test)\n",
    "linear_svm_time = time() - start\n",
    "\n",
    "with open('mnist_kernel.txt', 'w') as saveFile:\n",
    "    saveFile.write(kernel_svm_time + \"\\n\")\n",
    "    saveFile.write(kernel_svm_score + \"\\n\")\n",
    "\n",
    "with open('mnist_linear.txt', 'w') as saveFile:\n",
    "    saveFile.write(linear_svm_time + \"\\n\")\n",
    "    saveFile.write(linear_svm_score + \"\\n\")"
   ]
  },
  {
   "cell_type": "code",
   "execution_count": 8,
   "metadata": {},
   "outputs": [
    {
     "data": {
      "text/plain": [
       "array([ 60, 120, 180, 240, 300, 360, 420, 480, 540])"
      ]
     },
     "execution_count": 8,
     "metadata": {},
     "output_type": "execute_result"
    }
   ],
   "source": [
    "# number of random samples\n",
    "sample_sizes = 60 * np.arange(1,10)\n",
    "sample_sizes"
   ]
  },
  {
   "cell_type": "code",
   "execution_count": 9,
   "metadata": {},
   "outputs": [
    {
     "data": {
      "text/plain": [
       "[0.126, 0.126, 0.126, 0.126, 0.126, 0.126, 0.126, 0.126, 0.126]"
      ]
     },
     "execution_count": 9,
     "metadata": {},
     "output_type": "execute_result"
    }
   ],
   "source": [
    "nystroem_scores = []\n",
    "nystroem_times = []\n",
    "\n",
    "for D in sample_sizes:\n",
    "    # set the number of samples\n",
    "    nystroem_svm.set_params(feature_map__n_components=D)\n",
    "\n",
    "    start = time()\n",
    "    nystroem_svm.fit(X_train, y_train)\n",
    "    nystroem_times.append(time() - start)\n",
    "\n",
    "    nystroem_score = nystroem_svm.score(X_test, y_test)\n",
    "    nystroem_scores.append(nystroem_score)\n",
    "    \n",
    "nystroem_scores"
   ]
  },
  {
   "cell_type": "code",
   "execution_count": null,
   "metadata": {},
   "outputs": [],
   "source": [
    "with open('mnist_nystroem.txt', 'w') as saveFile:\n",
    "    #.write() does not automatically add a newline, like print does\n",
    "    saveFile.write(nystroem_scores + \"\\n\")"
   ]
  },
  {
   "cell_type": "code",
   "execution_count": null,
   "metadata": {},
   "outputs": [],
   "source": [
    "fourier_scores = []\n",
    "fourier_times = []\n",
    "\n",
    "for D in sample_sizes:\n",
    "    fourier_svm.set_params(feature_map__n_components=D)\n",
    "\n",
    "    start = time()\n",
    "    fourier_svm.fit(X_train, y_train)\n",
    "    fourier_times.append(time() - start)\n",
    "\n",
    "    fourier_score = fourier_svm.score(X_test, y_test)\n",
    "    fourier_scores.append(fourier_score)\n",
    "\n",
    "fourier_scores\n",
    "\n",
    "with open('mnist_fourier.txt', 'w') as saveFile:\n",
    "    #.write() does not automatically add a newline, like print does\n",
    "    saveFile.write(fourier_scores + \"\\n\")"
   ]
  },
  {
   "cell_type": "code",
   "execution_count": null,
   "metadata": {},
   "outputs": [],
   "source": [
    "# plot the results\n",
    "plt.figure(figsize=(8, 8))\n",
    "accuracy = plt.subplot(211)\n",
    "# second y axis for timings\n",
    "timescale = plt.subplot(212)\n",
    "\n",
    "accuracy.plot(sample_sizes, nystroem_scores, label=\"Nystroem approx. kernel\")\n",
    "timescale.plot(sample_sizes, nystroem_times, '--',\n",
    "               label='Nystroem approx. kernel')\n",
    "\n",
    "accuracy.plot(sample_sizes, fourier_scores, label=\"Fourier approx. kernel\")\n",
    "timescale.plot(sample_sizes, fourier_times, '--',\n",
    "               label='Fourier approx. kernel')\n",
    "\n",
    "# horizontal lines for exact rbf and linear kernels:\n",
    "accuracy.plot([sample_sizes[0], sample_sizes[-1]],\n",
    "              [linear_svm_score, linear_svm_score], label=\"linear svm\")\n",
    "timescale.plot([sample_sizes[0], sample_sizes[-1]],\n",
    "               [linear_svm_time, linear_svm_time], '--', label='linear svm')\n",
    "\n",
    "accuracy.plot([sample_sizes[0], sample_sizes[-1]],\n",
    "              [kernel_svm_score, kernel_svm_score], label=\"rbf svm\")\n",
    "timescale.plot([sample_sizes[0], sample_sizes[-1]],\n",
    "               [kernel_svm_time, kernel_svm_time], '--', label='rbf svm')\n",
    "\n",
    "# vertical line for dataset dimensionality = 64\n",
    "# accuracy.plot([64, 64], [0.7, 1], label=\"n_features\")\n",
    "\n",
    "# legends and labels\n",
    "accuracy.set_title(\"Classification accuracy\")\n",
    "timescale.set_title(\"Training times\")\n",
    "accuracy.set_xlim(sample_sizes[0], sample_sizes[-1])\n",
    "accuracy.set_ylim(np.min(fourier_scores), 1)\n",
    "timescale.set_xlabel(\"Sampling steps = transformed feature dimension\")\n",
    "accuracy.set_ylabel(\"Classification accuracy\")\n",
    "timescale.set_ylabel(\"Training time in seconds\")\n",
    "accuracy.legend(loc='best')\n",
    "timescale.legend(loc='best')\n",
    "\n",
    "plt.show()"
   ]
  },
  {
   "cell_type": "markdown",
   "metadata": {},
   "source": [
    "## Adult dataset"
   ]
  },
  {
   "cell_type": "code",
   "execution_count": 13,
   "metadata": {},
   "outputs": [
    {
     "data": {
      "text/html": [
       "<div>\n",
       "<style scoped>\n",
       "    .dataframe tbody tr th:only-of-type {\n",
       "        vertical-align: middle;\n",
       "    }\n",
       "\n",
       "    .dataframe tbody tr th {\n",
       "        vertical-align: top;\n",
       "    }\n",
       "\n",
       "    .dataframe thead th {\n",
       "        text-align: right;\n",
       "    }\n",
       "</style>\n",
       "<table border=\"1\" class=\"dataframe\">\n",
       "  <thead>\n",
       "    <tr style=\"text-align: right;\">\n",
       "      <th></th>\n",
       "      <th>Age</th>\n",
       "      <th>Workclass</th>\n",
       "      <th>fnlwgt</th>\n",
       "      <th>Education</th>\n",
       "      <th>Education-Num</th>\n",
       "      <th>Martial Status</th>\n",
       "      <th>Occupation</th>\n",
       "      <th>Relationship</th>\n",
       "      <th>Race</th>\n",
       "      <th>Sex</th>\n",
       "      <th>Capital Gain</th>\n",
       "      <th>Capital Loss</th>\n",
       "      <th>Hours per week</th>\n",
       "      <th>Country</th>\n",
       "      <th>Target</th>\n",
       "    </tr>\n",
       "  </thead>\n",
       "  <tbody>\n",
       "    <tr>\n",
       "      <th>32556</th>\n",
       "      <td>27</td>\n",
       "      <td>Private</td>\n",
       "      <td>257302</td>\n",
       "      <td>Assoc-acdm</td>\n",
       "      <td>12</td>\n",
       "      <td>Married-civ-spouse</td>\n",
       "      <td>Tech-support</td>\n",
       "      <td>Wife</td>\n",
       "      <td>White</td>\n",
       "      <td>Female</td>\n",
       "      <td>0</td>\n",
       "      <td>0</td>\n",
       "      <td>38</td>\n",
       "      <td>United-States</td>\n",
       "      <td>&lt;=50K</td>\n",
       "    </tr>\n",
       "    <tr>\n",
       "      <th>32557</th>\n",
       "      <td>40</td>\n",
       "      <td>Private</td>\n",
       "      <td>154374</td>\n",
       "      <td>HS-grad</td>\n",
       "      <td>9</td>\n",
       "      <td>Married-civ-spouse</td>\n",
       "      <td>Machine-op-inspct</td>\n",
       "      <td>Husband</td>\n",
       "      <td>White</td>\n",
       "      <td>Male</td>\n",
       "      <td>0</td>\n",
       "      <td>0</td>\n",
       "      <td>40</td>\n",
       "      <td>United-States</td>\n",
       "      <td>&gt;50K</td>\n",
       "    </tr>\n",
       "    <tr>\n",
       "      <th>32558</th>\n",
       "      <td>58</td>\n",
       "      <td>Private</td>\n",
       "      <td>151910</td>\n",
       "      <td>HS-grad</td>\n",
       "      <td>9</td>\n",
       "      <td>Widowed</td>\n",
       "      <td>Adm-clerical</td>\n",
       "      <td>Unmarried</td>\n",
       "      <td>White</td>\n",
       "      <td>Female</td>\n",
       "      <td>0</td>\n",
       "      <td>0</td>\n",
       "      <td>40</td>\n",
       "      <td>United-States</td>\n",
       "      <td>&lt;=50K</td>\n",
       "    </tr>\n",
       "    <tr>\n",
       "      <th>32559</th>\n",
       "      <td>22</td>\n",
       "      <td>Private</td>\n",
       "      <td>201490</td>\n",
       "      <td>HS-grad</td>\n",
       "      <td>9</td>\n",
       "      <td>Never-married</td>\n",
       "      <td>Adm-clerical</td>\n",
       "      <td>Own-child</td>\n",
       "      <td>White</td>\n",
       "      <td>Male</td>\n",
       "      <td>0</td>\n",
       "      <td>0</td>\n",
       "      <td>20</td>\n",
       "      <td>United-States</td>\n",
       "      <td>&lt;=50K</td>\n",
       "    </tr>\n",
       "    <tr>\n",
       "      <th>32560</th>\n",
       "      <td>52</td>\n",
       "      <td>Self-emp-inc</td>\n",
       "      <td>287927</td>\n",
       "      <td>HS-grad</td>\n",
       "      <td>9</td>\n",
       "      <td>Married-civ-spouse</td>\n",
       "      <td>Exec-managerial</td>\n",
       "      <td>Wife</td>\n",
       "      <td>White</td>\n",
       "      <td>Female</td>\n",
       "      <td>15024</td>\n",
       "      <td>0</td>\n",
       "      <td>40</td>\n",
       "      <td>United-States</td>\n",
       "      <td>&gt;50K</td>\n",
       "    </tr>\n",
       "  </tbody>\n",
       "</table>\n",
       "</div>"
      ],
      "text/plain": [
       "       Age     Workclass  fnlwgt   Education  Education-Num  \\\n",
       "32556   27       Private  257302  Assoc-acdm             12   \n",
       "32557   40       Private  154374     HS-grad              9   \n",
       "32558   58       Private  151910     HS-grad              9   \n",
       "32559   22       Private  201490     HS-grad              9   \n",
       "32560   52  Self-emp-inc  287927     HS-grad              9   \n",
       "\n",
       "           Martial Status         Occupation Relationship   Race     Sex  \\\n",
       "32556  Married-civ-spouse       Tech-support         Wife  White  Female   \n",
       "32557  Married-civ-spouse  Machine-op-inspct      Husband  White    Male   \n",
       "32558             Widowed       Adm-clerical    Unmarried  White  Female   \n",
       "32559       Never-married       Adm-clerical    Own-child  White    Male   \n",
       "32560  Married-civ-spouse    Exec-managerial         Wife  White  Female   \n",
       "\n",
       "       Capital Gain  Capital Loss  Hours per week        Country Target  \n",
       "32556             0             0              38  United-States  <=50K  \n",
       "32557             0             0              40  United-States   >50K  \n",
       "32558             0             0              40  United-States  <=50K  \n",
       "32559             0             0              20  United-States  <=50K  \n",
       "32560         15024             0              40  United-States   >50K  "
      ]
     },
     "execution_count": 13,
     "metadata": {},
     "output_type": "execute_result"
    }
   ],
   "source": [
    "adult = pd.read_csv(\n",
    "    \"datasets/adult.data.txt\",\n",
    "    names=[\n",
    "        \"Age\", \"Workclass\", \"fnlwgt\", \"Education\", \"Education-Num\", \"Martial Status\",\n",
    "        \"Occupation\", \"Relationship\", \"Race\", \"Sex\", \"Capital Gain\", \"Capital Loss\",\n",
    "        \"Hours per week\", \"Country\", \"Target\"],\n",
    "        sep=r'\\s*,\\s*',\n",
    "        engine='python',\n",
    "        na_values=\"?\")\n",
    "adult.tail()"
   ]
  },
  {
   "cell_type": "code",
   "execution_count": 16,
   "metadata": {},
   "outputs": [
    {
     "ename": "TypeError",
     "evalue": "'OneHotEncoder' object is not iterable",
     "output_type": "error",
     "traceback": [
      "\u001b[0;31m----------------------------------------------------------------------\u001b[0m",
      "\u001b[0;31mTypeError\u001b[0m                            Traceback (most recent call last)",
      "\u001b[0;32m<ipython-input-16-7c9f2b8f719b>\u001b[0m in \u001b[0;36m<module>\u001b[0;34m()\u001b[0m\n\u001b[1;32m      1\u001b[0m \u001b[0;32mfrom\u001b[0m \u001b[0msklearn\u001b[0m\u001b[0;34m.\u001b[0m\u001b[0mpreprocessing\u001b[0m \u001b[0;32mimport\u001b[0m \u001b[0mOneHotEncoder\u001b[0m\u001b[0;34m\u001b[0m\u001b[0m\n\u001b[0;32m----> 2\u001b[0;31m \u001b[0mencoded_data\u001b[0m\u001b[0;34m,\u001b[0m \u001b[0mencoders\u001b[0m \u001b[0;34m=\u001b[0m \u001b[0mOneHotEncoder\u001b[0m\u001b[0;34m(\u001b[0m\u001b[0madult\u001b[0m\u001b[0;34m)\u001b[0m\u001b[0;34m\u001b[0m\u001b[0m\n\u001b[0m",
      "\u001b[0;31mTypeError\u001b[0m: 'OneHotEncoder' object is not iterable"
     ]
    }
   ],
   "source": [
    "from sklearn.preprocessing import OneHotEncoder\n",
    "\n",
    "adult_labels = OneHotEncoder(adult)"
   ]
  }
 ],
 "metadata": {
  "anaconda-cloud": {},
  "kernelspec": {
   "display_name": "Python 3",
   "language": "python",
   "name": "python3"
  },
  "language_info": {
   "codemirror_mode": {
    "name": "ipython",
    "version": 3
   },
   "file_extension": ".py",
   "mimetype": "text/x-python",
   "name": "python",
   "nbconvert_exporter": "python",
   "pygments_lexer": "ipython3",
   "version": "3.6.4"
  }
 },
 "nbformat": 4,
 "nbformat_minor": 2
}
