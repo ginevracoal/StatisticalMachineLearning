{
 "cells": [
  {
   "cell_type": "markdown",
   "metadata": {},
   "source": [
    "## RBF vs Nystroem kernel approximation"
   ]
  },
  {
   "cell_type": "code",
   "execution_count": 2,
   "metadata": {},
   "outputs": [],
   "source": [
    "import matplotlib.pyplot as plt\n",
    "import numpy as np\n",
    "import pandas as pd\n",
    "from time import time\n",
    "\n",
    "# ignore warnings\n",
    "import warnings\n",
    "warnings.filterwarnings('ignore')"
   ]
  },
  {
   "cell_type": "code",
   "execution_count": 3,
   "metadata": {},
   "outputs": [],
   "source": [
    "from sklearn import svm, pipeline\n",
    "from sklearn.kernel_approximation import (RBFSampler,Nystroem)\n",
    "# from sklearn.decomposition import PCA\n",
    "from sklearn import datasets"
   ]
  },
  {
   "cell_type": "code",
   "execution_count": 4,
   "metadata": {},
   "outputs": [
    {
     "name": "stderr",
     "output_type": "stream",
     "text": [
      "Using TensorFlow backend.\n"
     ]
    }
   ],
   "source": [
    "from keras.datasets import mnist\n",
    "import pickle\n",
    "import os\n",
    "from sklearn.preprocessing import LabelEncoder\n",
    "from sklearn.model_selection import train_test_split"
   ]
  },
  {
   "cell_type": "markdown",
   "metadata": {},
   "source": [
    "## Define classifiers"
   ]
  },
  {
   "cell_type": "code",
   "execution_count": 5,
   "metadata": {},
   "outputs": [],
   "source": [
    "# SVM classifiers\n",
    "gamma = 0.5\n",
    "kernel_svm = svm.SVC(kernel='rbf', gamma=gamma)\n",
    "linear_svm = svm.SVC(kernel='linear')"
   ]
  },
  {
   "cell_type": "code",
   "execution_count": 6,
   "metadata": {},
   "outputs": [],
   "source": [
    "# the two methods\n",
    "random_fourier = RBFSampler(gamma=gamma, random_state=1)\n",
    "nystroem = Nystroem(gamma=gamma, random_state=1)\n",
    "\n",
    "# pipelines for kernel approxixmations\n",
    "fourier_svm = pipeline.Pipeline([(\"feature_map\", random_fourier),(\"svm\", linear_svm)])\n",
    "nystroem_svm = pipeline.Pipeline([(\"feature_map\", nystroem),(\"svm\", linear_svm)])"
   ]
  },
  {
   "cell_type": "markdown",
   "metadata": {},
   "source": [
    "## Fitting functions"
   ]
  },
  {
   "cell_type": "code",
   "execution_count": 7,
   "metadata": {},
   "outputs": [],
   "source": [
    "# from sklearn.model_selection import GridSearchCV\n",
    "\n",
    "\n",
    "# parameters = {'kernel':('linear', 'rbf'), 'C':[1, 10]}\n",
    "# svc = svm.SVC()\n",
    "# clf = GridSearchCV(svc, parameters)\n",
    "# clf.fit(iris.data, iris.target)"
   ]
  },
  {
   "cell_type": "code",
   "execution_count": 7,
   "metadata": {},
   "outputs": [],
   "source": [
    "# fit and predict linear and kernel SVMs\n",
    "\n",
    "def kernel(train_data, train_labels, test_data, test_labels): \n",
    "    \n",
    "    print(\"\\nkernel svm fitting\")\n",
    "    start = time()\n",
    "    kernel_svm.fit(train_data, train_labels)\n",
    "    kernel_svm_score = kernel_svm.score(test_data,test_labels)\n",
    "    kernel_svm_time = time() - start\n",
    "    return({'score':kernel_svm_score, 'time':kernel_svm_time})\n",
    "\n",
    "def linear(train_data, train_labels, test_data, test_labels):\n",
    "    print(\"\\nlinear svm fitting\")\n",
    "    start = time()\n",
    "    linear_svm.fit(train_data, train_labels)\n",
    "    linear_svm_score = linear_svm.score(test_data, test_labels)\n",
    "    linear_svm_time = time() - start\n",
    "    return ({'score':linear_svm_score, 'time':linear_svm_time})"
   ]
  },
  {
   "cell_type": "code",
   "execution_count": 8,
   "metadata": {},
   "outputs": [],
   "source": [
    "def nystroem(train_data, train_labels, test_data, test_labels):\n",
    "    \n",
    "    print(\"\\nnystroem svm fitting\")\n",
    "    \n",
    "    nystroem_scores = []\n",
    "    nystroem_times = []\n",
    "    sample_sizes = samples(train_data)\n",
    "\n",
    "    for D in sample_sizes:\n",
    "        print(\"\\n\", D, \"/\", max(sample_sizes),\"samples\")\n",
    "        # set the number of samples\n",
    "        nystroem_svm.set_params(feature_map__n_components=D)\n",
    "\n",
    "        start = time()\n",
    "        nystroem_svm.fit(train_data, train_labels)\n",
    "        nystroem_times.append(time() - start)\n",
    "\n",
    "        nystroem_score = nystroem_svm.score(test_data, test_labels)\n",
    "        nystroem_scores.append(nystroem_score)\n",
    "    \n",
    "    return({'scores':nystroem_scores, 'times':nystroem_times})"
   ]
  },
  {
   "cell_type": "code",
   "execution_count": 9,
   "metadata": {},
   "outputs": [],
   "source": [
    "def fourier(train_data, train_labels, test_data, test_labels):\n",
    "    \n",
    "    print(\"\\nfourier svm fitting\")\n",
    "\n",
    "    fourier_scores = []\n",
    "    fourier_times = []\n",
    "    sample_sizes = samples(train_data)\n",
    "\n",
    "    for D in sample_sizes:\n",
    "        print(\"\\n\", D, \"/\", max(sample_sizes),\"samples\")\n",
    "        fourier_svm.set_params(feature_map__n_components=D)\n",
    "\n",
    "        start = time()\n",
    "        fourier_svm.fit(train_data, train_labels)\n",
    "        fourier_times.append(time() - start)\n",
    "\n",
    "        fourier_score = fourier_svm.score(test_data, test_labels)\n",
    "        fourier_scores.append(fourier_score)\n",
    "\n",
    "    return({'scores':fourier_scores, 'times':fourier_times})"
   ]
  },
  {
   "cell_type": "code",
   "execution_count": 10,
   "metadata": {},
   "outputs": [],
   "source": [
    "# fits all methods and predicts test set\n",
    "def fit_all(train_data, train_labels, test_data, test_labels):\n",
    "    \n",
    "    kernel_out = kernel(train_data, train_labels, test_data, test_labels)\n",
    "    linear_out = linear(train_data, train_labels, test_data, test_labels)\n",
    "    nystroem_out = nystroem(train_data, train_labels, test_data, test_labels)\n",
    "    fourier_out = fourier(train_data, train_labels, test_data, test_labels)\n",
    "    \n",
    "    return({'kernel':kernel_out, 'linear':linear_out, 'nystroem':nystroem_out, 'fourier':fourier_out})"
   ]
  },
  {
   "cell_type": "code",
   "execution_count": 11,
   "metadata": {},
   "outputs": [],
   "source": [
    "def save(fit, filename):\n",
    "    with open('pickle/'+filename+'.pickle', 'wb') as handle:\n",
    "        pickle.dump(fit, handle, protocol=pickle.HIGHEST_PROTOCOL)"
   ]
  },
  {
   "cell_type": "markdown",
   "metadata": {},
   "source": [
    "## plot"
   ]
  },
  {
   "cell_type": "code",
   "execution_count": 12,
   "metadata": {},
   "outputs": [],
   "source": [
    "# takes a fit_all argument\n",
    "def plot_results(fit):\n",
    "    \n",
    "    kernel = fit['kernel']\n",
    "    linear = fit['linear']\n",
    "    nystroem = fit['nystroem']\n",
    "    fourier = fit['fourier']\n",
    "    \n",
    "    kernel_svm_score = kernel['score']\n",
    "    linear_svm_score = linear['score']\n",
    "    nystroem_scores = nystroem['scores']\n",
    "    fourier_scores = fourier['scores']\n",
    "    \n",
    "    kernel_svm_time = kernel['time']\n",
    "    linear_svm_time = linear['time']\n",
    "    nystroem_times = nystroem['times']\n",
    "    fourier_times = fourier['times']\n",
    "    \n",
    "    sample_sizes = samples(train_data)\n",
    "    \n",
    "    # plot the results\n",
    "    plt.figure(figsize=(8, 8))\n",
    "\n",
    "    accuracy = plt.subplot(211)\n",
    "    # second y axis for timings\n",
    "    timescale = plt.subplot(212)\n",
    "\n",
    "    accuracy.plot(sample_sizes, nystroem_scores, label=\"Nystroem approx. kernel\")\n",
    "    timescale.plot(sample_sizes, nystroem_times, '--',\n",
    "                   label='Nystroem approx. kernel')\n",
    "\n",
    "    accuracy.plot(sample_sizes, fourier_scores, label=\"Fourier approx. kernel\")\n",
    "    timescale.plot(sample_sizes, fourier_times, '--',\n",
    "                   label='Fourier approx. kernel')\n",
    "\n",
    "    # horizontal lines for exact rbf and linear kernels:\n",
    "    accuracy.plot([sample_sizes[0], sample_sizes[-1]],\n",
    "                  [linear_svm_score, linear_svm_score], label=\"linear svm\")\n",
    "    timescale.plot([sample_sizes[0], sample_sizes[-1]],\n",
    "                   [linear_svm_time, linear_svm_time], '--', label='linear svm')\n",
    "\n",
    "    accuracy.plot([sample_sizes[0], sample_sizes[-1]],\n",
    "                  [kernel_svm_score, kernel_svm_score], label=\"rbf svm\")\n",
    "    timescale.plot([sample_sizes[0], sample_sizes[-1]],\n",
    "                   [kernel_svm_time, kernel_svm_time], '--', label='rbf svm')\n",
    "\n",
    "    # vertical line for dataset dimensionality = 64\n",
    "    # accuracy.plot([64, 64], [0.7, 1], label=\"n_features\")\n",
    "\n",
    "    # legends and labels\n",
    "    accuracy.set_title(\"Classification accuracy\")\n",
    "    timescale.set_title(\"Training times\")\n",
    "    accuracy.set_xlim(sample_sizes[0], sample_sizes[-1])\n",
    "    # accuracy.set_xticks(())\n",
    "    accuracy.set_ylim(np.min(fourier_scores), 1)\n",
    "    timescale.set_xlabel(\"Sampling steps = transformed feature dimension\")\n",
    "    accuracy.set_ylabel(\"Classification accuracy\")\n",
    "    timescale.set_ylabel(\"Training time in seconds\")\n",
    "    accuracy.legend(loc='best')\n",
    "    timescale.legend(loc='best')\n",
    "\n",
    "    plt.show()"
   ]
  },
  {
   "cell_type": "code",
   "execution_count": 5,
   "metadata": {},
   "outputs": [],
   "source": [
    "# number of random samples\n",
    "def samples(train_data):\n",
    "#     samples = len(train_data)//60 * np.arange(1,10)\n",
    "    samples = 30 * np.arange(1,9)\n",
    "    return(samples)"
   ]
  },
  {
   "cell_type": "code",
   "execution_count": 14,
   "metadata": {},
   "outputs": [],
   "source": [
    "# import all written above\n",
    "%run -i 'functions.py'"
   ]
  },
  {
   "cell_type": "markdown",
   "metadata": {},
   "source": [
    "## Small MNIST"
   ]
  },
  {
   "cell_type": "code",
   "execution_count": 15,
   "metadata": {},
   "outputs": [],
   "source": [
    "%run -i 'functions.py'\n",
    "%run -i 'encode_csv.py'"
   ]
  },
  {
   "cell_type": "code",
   "execution_count": 16,
   "metadata": {},
   "outputs": [
    {
     "name": "stdout",
     "output_type": "stream",
     "text": [
      "(1617, 64)\n"
     ]
    }
   ],
   "source": [
    "# load digits dataset\n",
    "\n",
    "digits = datasets.load_digits(n_class=9)\n",
    "# digits = datasets.fetch_mldata(\"MNIST original\")\n",
    "\n",
    "print(digits.data.shape)\n",
    "# plt.matshow(digits.images[0])\n",
    "# it contains 1617 images of digits. \n",
    "# Each image is represented by an 8x8 matrix."
   ]
  },
  {
   "cell_type": "code",
   "execution_count": 17,
   "metadata": {
    "scrolled": true
   },
   "outputs": [
    {
     "name": "stdout",
     "output_type": "stream",
     "text": [
      "[ 0.  0.  5. 13.  9.  1.  0.  0.  0.  0. 13. 15. 10. 15.  5.  0.  0.  3.\n",
      " 15.  2.  0. 11.  8.  0.  0.  4. 12.  0.  0.  8.  8.  0.  0.  5.  8.  0.\n",
      "  0.  9.  8.  0.  0.  4. 11.  0.  1. 12.  7.  0.  0.  2. 14.  5. 10. 12.\n",
      "  0.  0.  0.  0.  6. 13. 10.  0.  0.  0.]\n",
      "\n",
      " [0.     0.     0.3125 0.8125 0.5625 0.0625 0.     0.     0.     0.\n",
      " 0.8125 0.9375 0.625  0.9375 0.3125 0.     0.     0.1875 0.9375 0.125\n",
      " 0.     0.6875 0.5    0.     0.     0.25   0.75   0.     0.     0.5\n",
      " 0.5    0.     0.     0.3125 0.5    0.     0.     0.5625 0.5    0.\n",
      " 0.     0.25   0.6875 0.     0.0625 0.75   0.4375 0.     0.     0.125\n",
      " 0.875  0.3125 0.625  0.75   0.     0.     0.     0.     0.375  0.8125\n",
      " 0.625  0.     0.     0.    ]\n",
      "\n",
      " 64 means (one over each column)\n",
      "\n",
      " [ 0.00000000e+00 -2.00989487e-02 -9.46969697e-03  7.27427335e-02\n",
      " -1.82127396e-01 -2.97735003e-01 -8.36811998e-02 -8.15553494e-03\n",
      " -3.86518244e-04 -1.21559988e-01  1.79537724e-01  1.72155226e-01\n",
      " -1.85142239e-02  4.48670377e-01  2.02380952e-01 -6.64811379e-03\n",
      " -1.93259122e-04  3.22742733e-02  3.36618738e-01 -3.21389920e-01\n",
      " -4.35142239e-01  2.43467842e-01  3.98113791e-01 -3.16944960e-03\n",
      " -7.73036487e-05  9.20686456e-02  1.91017316e-01 -5.27906617e-01\n",
      " -5.97479901e-01  7.33225108e-02  3.65723562e-01 -1.54607297e-04\n",
      "  0.00000000e+00  1.51167285e-01 -1.20593692e-02 -5.94155844e-01\n",
      " -6.80078850e-01  3.61781076e-02  3.31555349e-01  0.00000000e+00\n",
      " -6.18429190e-04  1.41079159e-01  2.13164811e-01 -4.97796846e-01\n",
      " -4.53308596e-01  2.45709647e-01  2.38133890e-01 -1.73933210e-03\n",
      " -5.02473717e-04  8.06663575e-02  3.96142548e-01 -3.15553494e-01\n",
      "  1.14022882e-02  2.14904143e-01 -2.22634508e-01 -1.35667904e-02\n",
      " -3.86518244e-05 -1.87847866e-02  2.88342610e-02  5.66249227e-02\n",
      " -1.03780148e-01 -4.07931354e-01 -1.29058442e-01 -2.49304267e-02]\n"
     ]
    }
   ],
   "source": [
    "n_samples = len(digits.data)\n",
    "# normalize data: here pixels have values between 0 and 16\n",
    "\n",
    "print(digits.data[0])\n",
    "\n",
    "data = digits.data / 16.\n",
    "# each image is a row vector with 64 entries.\n",
    "# we take the mean of each column, which gives 64 means (one over each component of the image)\n",
    "\n",
    "print(\"\\n\",data[0])\n",
    "\n",
    "mean = data.mean(axis=0)\n",
    "print(\"\\n\",len(mean), \"means (one over each column)\")\n",
    "\n",
    "# between -1 and 1\n",
    "data -= mean\n",
    "\n",
    "print(\"\\n\",data[0])"
   ]
  },
  {
   "cell_type": "code",
   "execution_count": 18,
   "metadata": {},
   "outputs": [],
   "source": [
    "# train-test half split \n",
    "train_data, train_labels = (data[:n_samples // 2], digits.target[:n_samples // 2])\n",
    "test_data, test_labels = (data[n_samples // 2:], digits.target[n_samples // 2:])"
   ]
  },
  {
   "cell_type": "code",
   "execution_count": 19,
   "metadata": {},
   "outputs": [
    {
     "name": "stdout",
     "output_type": "stream",
     "text": [
      "<class 'numpy.ndarray'> <class 'numpy.ndarray'>\n"
     ]
    }
   ],
   "source": [
    "print(type(train_data), type(train_labels))"
   ]
  },
  {
   "cell_type": "code",
   "execution_count": 22,
   "metadata": {},
   "outputs": [
    {
     "data": {
      "text/plain": [
       "-0.5683750773036488"
      ]
     },
     "execution_count": 22,
     "metadata": {},
     "output_type": "execute_result"
    }
   ],
   "source": [
    "min(train_data[2])"
   ]
  },
  {
   "cell_type": "code",
   "execution_count": 35,
   "metadata": {},
   "outputs": [
    {
     "name": "stdout",
     "output_type": "stream",
     "text": [
      "\n",
      "kernel svm fitting\n",
      "\n",
      "linear svm fitting\n",
      "\n",
      "nystroem svm fitting\n",
      "\n",
      " 30 / 240 samples\n",
      "\n",
      " 60 / 240 samples\n",
      "\n",
      " 90 / 240 samples\n",
      "\n",
      " 120 / 240 samples\n",
      "\n",
      " 150 / 240 samples\n",
      "\n",
      " 180 / 240 samples\n",
      "\n",
      " 210 / 240 samples\n",
      "\n",
      " 240 / 240 samples\n",
      "\n",
      "fourier svm fitting\n",
      "\n",
      " 30 / 240 samples\n",
      "\n",
      " 60 / 240 samples\n",
      "\n",
      " 90 / 240 samples\n",
      "\n",
      " 120 / 240 samples\n",
      "\n",
      " 150 / 240 samples\n",
      "\n",
      " 180 / 240 samples\n",
      "\n",
      " 210 / 240 samples\n",
      "\n",
      " 240 / 240 samples\n"
     ]
    }
   ],
   "source": [
    "small_mnist_fit = fit_all(train_data, train_labels, test_data, test_labels)"
   ]
  },
  {
   "cell_type": "code",
   "execution_count": 36,
   "metadata": {},
   "outputs": [
    {
     "data": {
      "image/png": "[encoded data removed]",
      "text/plain": [
       "<Figure size 576x576 with 2 Axes>"
      ]
     },
     "metadata": {},
     "output_type": "display_data"
    }
   ],
   "source": [
    "# prova con pickle\n",
    "save(small_mnist_fit, 'small_mnist_fit')\n",
    "prova = pickle.load(open('pickle/small_mnist_fit.pickle','rb'))\n",
    "plot_results(prova)"
   ]
  },
  {
   "cell_type": "markdown",
   "metadata": {},
   "source": [
    "## MNIST original\n",
    "\n",
    "Following this: https://machinelearningmastery.com/handwritten-digit-recognition-using-convolutional-neural-networks-python-keras/\n"
   ]
  },
  {
   "cell_type": "code",
   "execution_count": 23,
   "metadata": {},
   "outputs": [],
   "source": [
    "%run -i 'functions.py'\n",
    "%run -i 'encode_csv.py'"
   ]
  },
  {
   "cell_type": "code",
   "execution_count": 24,
   "metadata": {},
   "outputs": [],
   "source": [
    "n = 8000"
   ]
  },
  {
   "cell_type": "code",
   "execution_count": 25,
   "metadata": {},
   "outputs": [
    {
     "name": "stdout",
     "output_type": "stream",
     "text": [
      "train: (60000, 28, 28) , test: (10000, 28, 28)\n",
      "train: (8000, 784) , test: (400, 784)\n"
     ]
    }
   ],
   "source": [
    "(X_train, y_train), (X_test, y_test) = mnist.load_data()\n",
    "digits = X_train\n",
    "\n",
    "print(\"train:\", X_train.shape, \", test:\", X_test.shape)\n",
    "\n",
    "# flatten 28*28 images to a 784 vector for each image\n",
    "num_pixels = X_train.shape[1] * X_train.shape[2]\n",
    "\n",
    "X_train = X_train.reshape(X_train.shape[0], num_pixels).astype('float32')\n",
    "X_test = X_test.reshape(X_test.shape[0], num_pixels).astype('float32')\n",
    "\n",
    "# print(X_train.shape)\n",
    "# normalize from 0-255 to 0-1\n",
    "X_train = X_train // 255\n",
    "X_test = X_test // 255\n",
    "\n",
    "# now to -1 - 1\n",
    "train_mean = X_train.mean(axis=0)\n",
    "test_mean = X_test.mean(axis=0)\n",
    "\n",
    "X_train -= train_mean\n",
    "X_test -= test_mean\n",
    "\n",
    "# not taking the whole dataset\n",
    "\n",
    "X_train = X_train[:n]\n",
    "y_train = y_train[:n]\n",
    "X_test = X_test[:n//20]\n",
    "y_test = y_test[:n//20]\n",
    "\n",
    "print(\"train:\", X_train.shape, \", test:\", X_test.shape)"
   ]
  },
  {
   "cell_type": "markdown",
   "metadata": {},
   "source": [
    "### Con questi dati fa schifo! accuratezza dell'1%"
   ]
  },
  {
   "cell_type": "code",
   "execution_count": 27,
   "metadata": {},
   "outputs": [
    {
     "ename": "TypeError",
     "evalue": "nystroem() missing 1 required positional argument: 'scale_samples'",
     "output_type": "error",
     "traceback": [
      "\u001b[0;31m----------------------------------------------------------------------\u001b[0m",
      "\u001b[0;31mTypeError\u001b[0m                            Traceback (most recent call last)",
      "\u001b[0;32m~/mount_galileo/individual/code/encode_csv.py\u001b[0m in \u001b[0;36m<module>\u001b[0;34m()\u001b[0m\n\u001b[0;32m----> 1\u001b[0;31m \u001b[0mmnist_nystroem\u001b[0m \u001b[0;34m=\u001b[0m \u001b[0mnystroem\u001b[0m\u001b[0;34m(\u001b[0m\u001b[0mX_train\u001b[0m\u001b[0;34m,\u001b[0m \u001b[0my_train\u001b[0m\u001b[0;34m,\u001b[0m \u001b[0mX_test\u001b[0m\u001b[0;34m,\u001b[0m \u001b[0my_test\u001b[0m\u001b[0;34m)\u001b[0m\u001b[0;34m\u001b[0m\u001b[0m\n\u001b[0m\u001b[1;32m      2\u001b[0m \u001b[0mmnist_nystroem\u001b[0m\u001b[0;34m[\u001b[0m\u001b[0;34m'scores'\u001b[0m\u001b[0;34m]\u001b[0m\u001b[0;34m\u001b[0m\u001b[0m\n",
      "\u001b[0;31mTypeError\u001b[0m: nystroem() missing 1 required positional argument: 'scale_samples'"
     ]
    }
   ],
   "source": [
    "mnist_nystroem = nystroem(X_train, y_train, X_test, y_test)\n",
    "mnist_nystroem['scores']"
   ]
  },
  {
   "cell_type": "code",
   "execution_count": 41,
   "metadata": {},
   "outputs": [
    {
     "data": {
      "text/plain": [
       "{'scores': [0.1425, 0.1425, 0.1425, 0.1425, 0.1425, 0.1425, 0.1425, 0.1425],\n",
       " 'times': [6.030892372131348,\n",
       "  8.560778856277466,\n",
       "  11.789965152740479,\n",
       "  15.042201519012451,\n",
       "  18.998812198638916,\n",
       "  22.682267904281616,\n",
       "  25.337146759033203,\n",
       "  28.33884024620056]}"
      ]
     },
     "execution_count": 41,
     "metadata": {},
     "output_type": "execute_result"
    }
   ],
   "source": []
  },
  {
   "cell_type": "code",
   "execution_count": 42,
   "metadata": {},
   "outputs": [
    {
     "name": "stdout",
     "output_type": "stream",
     "text": [
      "\n",
      "fourier svm fitting\n",
      "\n",
      " 30 / 240 samples\n",
      "\n",
      " 60 / 240 samples\n",
      "\n",
      " 90 / 240 samples\n",
      "\n",
      " 120 / 240 samples\n",
      "\n",
      " 150 / 240 samples\n",
      "\n",
      " 180 / 240 samples\n",
      "\n",
      " 210 / 240 samples\n",
      "\n",
      " 240 / 240 samples\n"
     ]
    }
   ],
   "source": [
    "mnist_fourier = fourier(X_train, y_train, X_test, y_test)\n",
    "mnist_fourier['scores']"
   ]
  },
  {
   "cell_type": "code",
   "execution_count": 43,
   "metadata": {},
   "outputs": [
    {
     "data": {
      "text/plain": [
       "[0.1375, 0.11, 0.1475, 0.13, 0.1275, 0.11, 0.1175, 0.1475]"
      ]
     },
     "execution_count": 43,
     "metadata": {},
     "output_type": "execute_result"
    }
   ],
   "source": [
    "mnist_fourier['scores']"
   ]
  },
  {
   "cell_type": "code",
   "execution_count": null,
   "metadata": {},
   "outputs": [],
   "source": [
    "# prova con pickle\n",
    "save(small_mnist_fit, 'small_mnist_fit')"
   ]
  },
  {
   "cell_type": "code",
   "execution_count": null,
   "metadata": {},
   "outputs": [
    {
     "name": "stdout",
     "output_type": "stream",
     "text": [
      "\n",
      "kernel svm fitting\n"
     ]
    }
   ],
   "source": [
    "orig_mnist_fit = fit_all(X_train, y_train, X_test, y_test)"
   ]
  },
  {
   "cell_type": "code",
   "execution_count": 23,
   "metadata": {},
   "outputs": [],
   "source": [
    "with open('mnist.pickle', 'wb') as handle:\n",
    "    pickle.dump(orig_mnist_fit, handle, protocol=pickle.HIGHEST_PROTOCOL)"
   ]
  },
  {
   "cell_type": "code",
   "execution_count": null,
   "metadata": {},
   "outputs": [],
   "source": [
    "plot_results(orig_mnist_fit)"
   ]
  },
  {
   "cell_type": "markdown",
   "metadata": {},
   "source": [
    "## Adult dataset"
   ]
  },
  {
   "cell_type": "code",
   "execution_count": 6,
   "metadata": {},
   "outputs": [
    {
     "data": {
      "text/html": [
       "<div>\n",
       "<style scoped>\n",
       "    .dataframe tbody tr th:only-of-type {\n",
       "        vertical-align: middle;\n",
       "    }\n",
       "\n",
       "    .dataframe tbody tr th {\n",
       "        vertical-align: top;\n",
       "    }\n",
       "\n",
       "    .dataframe thead th {\n",
       "        text-align: right;\n",
       "    }\n",
       "</style>\n",
       "<table border=\"1\" class=\"dataframe\">\n",
       "  <thead>\n",
       "    <tr style=\"text-align: right;\">\n",
       "      <th></th>\n",
       "      <th>Age</th>\n",
       "      <th>Workclass</th>\n",
       "      <th>fnlwgt</th>\n",
       "      <th>Education</th>\n",
       "      <th>Education-Num</th>\n",
       "      <th>Martial Status</th>\n",
       "      <th>Occupation</th>\n",
       "      <th>Relationship</th>\n",
       "      <th>Race</th>\n",
       "      <th>Sex</th>\n",
       "      <th>Capital Gain</th>\n",
       "      <th>Capital Loss</th>\n",
       "      <th>Hours per week</th>\n",
       "      <th>Country</th>\n",
       "      <th>Target</th>\n",
       "    </tr>\n",
       "  </thead>\n",
       "  <tbody>\n",
       "    <tr>\n",
       "      <th>0</th>\n",
       "      <td>39</td>\n",
       "      <td>State-gov</td>\n",
       "      <td>77516</td>\n",
       "      <td>Bachelors</td>\n",
       "      <td>13</td>\n",
       "      <td>Never-married</td>\n",
       "      <td>Adm-clerical</td>\n",
       "      <td>Not-in-family</td>\n",
       "      <td>White</td>\n",
       "      <td>Male</td>\n",
       "      <td>2174</td>\n",
       "      <td>0</td>\n",
       "      <td>40</td>\n",
       "      <td>United-States</td>\n",
       "      <td>&lt;=50K</td>\n",
       "    </tr>\n",
       "    <tr>\n",
       "      <th>1</th>\n",
       "      <td>50</td>\n",
       "      <td>Self-emp-not-inc</td>\n",
       "      <td>83311</td>\n",
       "      <td>Bachelors</td>\n",
       "      <td>13</td>\n",
       "      <td>Married-civ-spouse</td>\n",
       "      <td>Exec-managerial</td>\n",
       "      <td>Husband</td>\n",
       "      <td>White</td>\n",
       "      <td>Male</td>\n",
       "      <td>0</td>\n",
       "      <td>0</td>\n",
       "      <td>13</td>\n",
       "      <td>United-States</td>\n",
       "      <td>&lt;=50K</td>\n",
       "    </tr>\n",
       "    <tr>\n",
       "      <th>2</th>\n",
       "      <td>38</td>\n",
       "      <td>Private</td>\n",
       "      <td>215646</td>\n",
       "      <td>HS-grad</td>\n",
       "      <td>9</td>\n",
       "      <td>Divorced</td>\n",
       "      <td>Handlers-cleaners</td>\n",
       "      <td>Not-in-family</td>\n",
       "      <td>White</td>\n",
       "      <td>Male</td>\n",
       "      <td>0</td>\n",
       "      <td>0</td>\n",
       "      <td>40</td>\n",
       "      <td>United-States</td>\n",
       "      <td>&lt;=50K</td>\n",
       "    </tr>\n",
       "    <tr>\n",
       "      <th>3</th>\n",
       "      <td>53</td>\n",
       "      <td>Private</td>\n",
       "      <td>234721</td>\n",
       "      <td>11th</td>\n",
       "      <td>7</td>\n",
       "      <td>Married-civ-spouse</td>\n",
       "      <td>Handlers-cleaners</td>\n",
       "      <td>Husband</td>\n",
       "      <td>Black</td>\n",
       "      <td>Male</td>\n",
       "      <td>0</td>\n",
       "      <td>0</td>\n",
       "      <td>40</td>\n",
       "      <td>United-States</td>\n",
       "      <td>&lt;=50K</td>\n",
       "    </tr>\n",
       "    <tr>\n",
       "      <th>4</th>\n",
       "      <td>28</td>\n",
       "      <td>Private</td>\n",
       "      <td>338409</td>\n",
       "      <td>Bachelors</td>\n",
       "      <td>13</td>\n",
       "      <td>Married-civ-spouse</td>\n",
       "      <td>Prof-specialty</td>\n",
       "      <td>Wife</td>\n",
       "      <td>Black</td>\n",
       "      <td>Female</td>\n",
       "      <td>0</td>\n",
       "      <td>0</td>\n",
       "      <td>40</td>\n",
       "      <td>Cuba</td>\n",
       "      <td>&lt;=50K</td>\n",
       "    </tr>\n",
       "  </tbody>\n",
       "</table>\n",
       "</div>"
      ],
      "text/plain": [
       "   Age         Workclass  fnlwgt  Education  Education-Num  \\\n",
       "0   39         State-gov   77516  Bachelors             13   \n",
       "1   50  Self-emp-not-inc   83311  Bachelors             13   \n",
       "2   38           Private  215646    HS-grad              9   \n",
       "3   53           Private  234721       11th              7   \n",
       "4   28           Private  338409  Bachelors             13   \n",
       "\n",
       "       Martial Status         Occupation   Relationship   Race     Sex  \\\n",
       "0       Never-married       Adm-clerical  Not-in-family  White    Male   \n",
       "1  Married-civ-spouse    Exec-managerial        Husband  White    Male   \n",
       "2            Divorced  Handlers-cleaners  Not-in-family  White    Male   \n",
       "3  Married-civ-spouse  Handlers-cleaners        Husband  Black    Male   \n",
       "4  Married-civ-spouse     Prof-specialty           Wife  Black  Female   \n",
       "\n",
       "   Capital Gain  Capital Loss  Hours per week        Country Target  \n",
       "0          2174             0              40  United-States  <=50K  \n",
       "1             0             0              13  United-States  <=50K  \n",
       "2             0             0              40  United-States  <=50K  \n",
       "3             0             0              40  United-States  <=50K  \n",
       "4             0             0              40           Cuba  <=50K  "
      ]
     },
     "execution_count": 6,
     "metadata": {},
     "output_type": "execute_result"
    }
   ],
   "source": [
    "adult = pd.read_csv(\n",
    "    \"datasets/adult.data.txt\",\n",
    "    names=[\n",
    "        \"Age\", \"Workclass\", \"fnlwgt\", \"Education\", \"Education-Num\", \"Martial Status\",\n",
    "        \"Occupation\", \"Relationship\", \"Race\", \"Sex\", \"Capital Gain\", \"Capital Loss\",\n",
    "        \"Hours per week\", \"Country\", \"Target\"],\n",
    "        sep=r'\\s*,\\s*',\n",
    "        engine='python',\n",
    "        na_values=\"?\")\n",
    "adult.head()"
   ]
  },
  {
   "cell_type": "code",
   "execution_count": 7,
   "metadata": {},
   "outputs": [
    {
     "name": "stdout",
     "output_type": "stream",
     "text": [
      "32561\n",
      "30162\n"
     ]
    }
   ],
   "source": [
    "print(len(adult))\n",
    "adult = adult.dropna()\n",
    "print(len(adult))"
   ]
  },
  {
   "cell_type": "code",
   "execution_count": 8,
   "metadata": {},
   "outputs": [],
   "source": [
    "# encode categorical featuers as numbers\n",
    "from sklearn.preprocessing import LabelEncoder\n",
    "\n",
    "\n",
    "def number_encode_features(df):\n",
    "    labels = df.copy()\n",
    "    encoders = {}\n",
    "    for column in labels.columns:\n",
    "        if labels.dtypes[column] == np.object:\n",
    "            encoders[column] = LabelEncoder()\n",
    "            labels[column] = encoders[column].fit_transform(labels[column])\n",
    "    return labels, encoders"
   ]
  },
  {
   "cell_type": "code",
   "execution_count": 9,
   "metadata": {},
   "outputs": [
    {
     "data": {
      "text/html": [
       "<div>\n",
       "<style scoped>\n",
       "    .dataframe tbody tr th:only-of-type {\n",
       "        vertical-align: middle;\n",
       "    }\n",
       "\n",
       "    .dataframe tbody tr th {\n",
       "        vertical-align: top;\n",
       "    }\n",
       "\n",
       "    .dataframe thead th {\n",
       "        text-align: right;\n",
       "    }\n",
       "</style>\n",
       "<table border=\"1\" class=\"dataframe\">\n",
       "  <thead>\n",
       "    <tr style=\"text-align: right;\">\n",
       "      <th></th>\n",
       "      <th>Age</th>\n",
       "      <th>Workclass</th>\n",
       "      <th>fnlwgt</th>\n",
       "      <th>Education</th>\n",
       "      <th>Education-Num</th>\n",
       "      <th>Martial Status</th>\n",
       "      <th>Occupation</th>\n",
       "      <th>Relationship</th>\n",
       "      <th>Race</th>\n",
       "      <th>Sex</th>\n",
       "      <th>Capital Gain</th>\n",
       "      <th>Capital Loss</th>\n",
       "      <th>Hours per week</th>\n",
       "      <th>Country</th>\n",
       "      <th>Target</th>\n",
       "    </tr>\n",
       "  </thead>\n",
       "  <tbody>\n",
       "    <tr>\n",
       "      <th>0</th>\n",
       "      <td>39</td>\n",
       "      <td>5</td>\n",
       "      <td>77516</td>\n",
       "      <td>9</td>\n",
       "      <td>13</td>\n",
       "      <td>4</td>\n",
       "      <td>0</td>\n",
       "      <td>1</td>\n",
       "      <td>4</td>\n",
       "      <td>1</td>\n",
       "      <td>2174</td>\n",
       "      <td>0</td>\n",
       "      <td>40</td>\n",
       "      <td>38</td>\n",
       "      <td>0</td>\n",
       "    </tr>\n",
       "    <tr>\n",
       "      <th>1</th>\n",
       "      <td>50</td>\n",
       "      <td>4</td>\n",
       "      <td>83311</td>\n",
       "      <td>9</td>\n",
       "      <td>13</td>\n",
       "      <td>2</td>\n",
       "      <td>3</td>\n",
       "      <td>0</td>\n",
       "      <td>4</td>\n",
       "      <td>1</td>\n",
       "      <td>0</td>\n",
       "      <td>0</td>\n",
       "      <td>13</td>\n",
       "      <td>38</td>\n",
       "      <td>0</td>\n",
       "    </tr>\n",
       "    <tr>\n",
       "      <th>2</th>\n",
       "      <td>38</td>\n",
       "      <td>2</td>\n",
       "      <td>215646</td>\n",
       "      <td>11</td>\n",
       "      <td>9</td>\n",
       "      <td>0</td>\n",
       "      <td>5</td>\n",
       "      <td>1</td>\n",
       "      <td>4</td>\n",
       "      <td>1</td>\n",
       "      <td>0</td>\n",
       "      <td>0</td>\n",
       "      <td>40</td>\n",
       "      <td>38</td>\n",
       "      <td>0</td>\n",
       "    </tr>\n",
       "    <tr>\n",
       "      <th>3</th>\n",
       "      <td>53</td>\n",
       "      <td>2</td>\n",
       "      <td>234721</td>\n",
       "      <td>1</td>\n",
       "      <td>7</td>\n",
       "      <td>2</td>\n",
       "      <td>5</td>\n",
       "      <td>0</td>\n",
       "      <td>2</td>\n",
       "      <td>1</td>\n",
       "      <td>0</td>\n",
       "      <td>0</td>\n",
       "      <td>40</td>\n",
       "      <td>38</td>\n",
       "      <td>0</td>\n",
       "    </tr>\n",
       "    <tr>\n",
       "      <th>4</th>\n",
       "      <td>28</td>\n",
       "      <td>2</td>\n",
       "      <td>338409</td>\n",
       "      <td>9</td>\n",
       "      <td>13</td>\n",
       "      <td>2</td>\n",
       "      <td>9</td>\n",
       "      <td>5</td>\n",
       "      <td>2</td>\n",
       "      <td>0</td>\n",
       "      <td>0</td>\n",
       "      <td>0</td>\n",
       "      <td>40</td>\n",
       "      <td>4</td>\n",
       "      <td>0</td>\n",
       "    </tr>\n",
       "  </tbody>\n",
       "</table>\n",
       "</div>"
      ],
      "text/plain": [
       "   Age  Workclass  fnlwgt  Education  Education-Num  Martial Status  \\\n",
       "0   39          5   77516          9             13               4   \n",
       "1   50          4   83311          9             13               2   \n",
       "2   38          2  215646         11              9               0   \n",
       "3   53          2  234721          1              7               2   \n",
       "4   28          2  338409          9             13               2   \n",
       "\n",
       "   Occupation  Relationship  Race  Sex  Capital Gain  Capital Loss  \\\n",
       "0           0             1     4    1          2174             0   \n",
       "1           3             0     4    1             0             0   \n",
       "2           5             1     4    1             0             0   \n",
       "3           5             0     2    1             0             0   \n",
       "4           9             5     2    0             0             0   \n",
       "\n",
       "   Hours per week  Country  Target  \n",
       "0              40       38       0  \n",
       "1              13       38       0  \n",
       "2              40       38       0  \n",
       "3              40       38       0  \n",
       "4              40        4       0  "
      ]
     },
     "execution_count": 9,
     "metadata": {},
     "output_type": "execute_result"
    }
   ],
   "source": [
    "adult_encoded, encoders = number_encode_features(adult)\n",
    "adult_encoded.head()"
   ]
  },
  {
   "cell_type": "code",
   "execution_count": 12,
   "metadata": {},
   "outputs": [],
   "source": [
    "# encoders"
   ]
  },
  {
   "cell_type": "code",
   "execution_count": 14,
   "metadata": {},
   "outputs": [],
   "source": [
    "y = adult_encoded[\"Target\"]#.iloc[:n]\n",
    "y = y.values"
   ]
  },
  {
   "cell_type": "code",
   "execution_count": 15,
   "metadata": {},
   "outputs": [],
   "source": [
    "from sklearn import preprocessing\n",
    "def scale_columns(csv):\n",
    "    min_max_scaler = preprocessing.MinMaxScaler()\n",
    "    \n",
    "    for column in csv.columns:    \n",
    "        col = csv[column]\n",
    "        csv[column] = (col-col.mean(axis=0))/(max(col)-min(col))\n",
    "    return csv"
   ]
  },
  {
   "cell_type": "code",
   "execution_count": 17,
   "metadata": {},
   "outputs": [
    {
     "data": {
      "text/html": [
       "<div>\n",
       "<style scoped>\n",
       "    .dataframe tbody tr th:only-of-type {\n",
       "        vertical-align: middle;\n",
       "    }\n",
       "\n",
       "    .dataframe tbody tr th {\n",
       "        vertical-align: top;\n",
       "    }\n",
       "\n",
       "    .dataframe thead th {\n",
       "        text-align: right;\n",
       "    }\n",
       "</style>\n",
       "<table border=\"1\" class=\"dataframe\">\n",
       "  <thead>\n",
       "    <tr style=\"text-align: right;\">\n",
       "      <th></th>\n",
       "      <th>Age</th>\n",
       "      <th>Workclass</th>\n",
       "      <th>fnlwgt</th>\n",
       "      <th>Education</th>\n",
       "      <th>Education-Num</th>\n",
       "      <th>Martial Status</th>\n",
       "      <th>Occupation</th>\n",
       "      <th>Relationship</th>\n",
       "      <th>Race</th>\n",
       "      <th>Sex</th>\n",
       "      <th>Capital Gain</th>\n",
       "      <th>Capital Loss</th>\n",
       "      <th>Hours per week</th>\n",
       "      <th>Country</th>\n",
       "    </tr>\n",
       "  </thead>\n",
       "  <tbody>\n",
       "    <tr>\n",
       "      <th>0</th>\n",
       "      <td>0.007700</td>\n",
       "      <td>0.466779</td>\n",
       "      <td>-0.076331</td>\n",
       "      <td>-0.088918</td>\n",
       "      <td>0.191913</td>\n",
       "      <td>0.236644</td>\n",
       "      <td>-0.458450</td>\n",
       "      <td>-0.083668</td>\n",
       "      <td>0.080349</td>\n",
       "      <td>0.324315</td>\n",
       "      <td>0.01082</td>\n",
       "      <td>-0.020288</td>\n",
       "      <td>-0.009502</td>\n",
       "      <td>0.040436</td>\n",
       "    </tr>\n",
       "    <tr>\n",
       "      <th>1</th>\n",
       "      <td>0.158385</td>\n",
       "      <td>0.300113</td>\n",
       "      <td>-0.072391</td>\n",
       "      <td>-0.088918</td>\n",
       "      <td>0.191913</td>\n",
       "      <td>-0.096689</td>\n",
       "      <td>-0.227681</td>\n",
       "      <td>-0.283668</td>\n",
       "      <td>0.080349</td>\n",
       "      <td>0.324315</td>\n",
       "      <td>-0.01092</td>\n",
       "      <td>-0.020288</td>\n",
       "      <td>-0.285013</td>\n",
       "      <td>0.040436</td>\n",
       "    </tr>\n",
       "    <tr>\n",
       "      <th>2</th>\n",
       "      <td>-0.005999</td>\n",
       "      <td>-0.033221</td>\n",
       "      <td>0.017575</td>\n",
       "      <td>0.044416</td>\n",
       "      <td>-0.074754</td>\n",
       "      <td>-0.430022</td>\n",
       "      <td>-0.073835</td>\n",
       "      <td>-0.083668</td>\n",
       "      <td>0.080349</td>\n",
       "      <td>0.324315</td>\n",
       "      <td>-0.01092</td>\n",
       "      <td>-0.020288</td>\n",
       "      <td>-0.009502</td>\n",
       "      <td>0.040436</td>\n",
       "    </tr>\n",
       "    <tr>\n",
       "      <th>3</th>\n",
       "      <td>0.199481</td>\n",
       "      <td>-0.033221</td>\n",
       "      <td>0.030543</td>\n",
       "      <td>-0.622251</td>\n",
       "      <td>-0.208087</td>\n",
       "      <td>-0.096689</td>\n",
       "      <td>-0.073835</td>\n",
       "      <td>-0.283668</td>\n",
       "      <td>-0.419651</td>\n",
       "      <td>0.324315</td>\n",
       "      <td>-0.01092</td>\n",
       "      <td>-0.020288</td>\n",
       "      <td>-0.009502</td>\n",
       "      <td>0.040436</td>\n",
       "    </tr>\n",
       "    <tr>\n",
       "      <th>4</th>\n",
       "      <td>-0.142985</td>\n",
       "      <td>-0.033221</td>\n",
       "      <td>0.101034</td>\n",
       "      <td>-0.088918</td>\n",
       "      <td>0.191913</td>\n",
       "      <td>-0.096689</td>\n",
       "      <td>0.233858</td>\n",
       "      <td>0.716332</td>\n",
       "      <td>-0.419651</td>\n",
       "      <td>-0.675685</td>\n",
       "      <td>-0.01092</td>\n",
       "      <td>-0.020288</td>\n",
       "      <td>-0.009502</td>\n",
       "      <td>-0.809564</td>\n",
       "    </tr>\n",
       "  </tbody>\n",
       "</table>\n",
       "</div>"
      ],
      "text/plain": [
       "        Age  Workclass    fnlwgt  Education  Education-Num  Martial Status  \\\n",
       "0  0.007700   0.466779 -0.076331  -0.088918       0.191913        0.236644   \n",
       "1  0.158385   0.300113 -0.072391  -0.088918       0.191913       -0.096689   \n",
       "2 -0.005999  -0.033221  0.017575   0.044416      -0.074754       -0.430022   \n",
       "3  0.199481  -0.033221  0.030543  -0.622251      -0.208087       -0.096689   \n",
       "4 -0.142985  -0.033221  0.101034  -0.088918       0.191913       -0.096689   \n",
       "\n",
       "   Occupation  Relationship      Race       Sex  Capital Gain  Capital Loss  \\\n",
       "0   -0.458450     -0.083668  0.080349  0.324315       0.01082     -0.020288   \n",
       "1   -0.227681     -0.283668  0.080349  0.324315      -0.01092     -0.020288   \n",
       "2   -0.073835     -0.083668  0.080349  0.324315      -0.01092     -0.020288   \n",
       "3   -0.073835     -0.283668 -0.419651  0.324315      -0.01092     -0.020288   \n",
       "4    0.233858      0.716332 -0.419651 -0.675685      -0.01092     -0.020288   \n",
       "\n",
       "   Hours per week   Country  \n",
       "0       -0.009502  0.040436  \n",
       "1       -0.285013  0.040436  \n",
       "2       -0.009502  0.040436  \n",
       "3       -0.009502  0.040436  \n",
       "4       -0.009502 -0.809564  "
      ]
     },
     "execution_count": 17,
     "metadata": {},
     "output_type": "execute_result"
    }
   ],
   "source": [
    "# scale between -1 and 1\n",
    "X = adult_encoded.iloc[:,:-1]\n",
    "X = scale_columns(X)\n",
    "\n",
    "X.head()"
   ]
  },
  {
   "cell_type": "code",
   "execution_count": 187,
   "metadata": {},
   "outputs": [],
   "source": [
    "# # convert to list of arrays\n",
    "# X = X.apply(lambda x: x.tolist(), axis=1)\n",
    "# X = X.values"
   ]
  },
  {
   "cell_type": "code",
   "execution_count": 18,
   "metadata": {},
   "outputs": [
    {
     "name": "stdout",
     "output_type": "stream",
     "text": [
      "24129 training, 6033 test\n"
     ]
    }
   ],
   "source": [
    "X_train, X_test, y_train, y_test = train_test_split(X, y, test_size=0.2, random_state=13)\n",
    "print(len(X_train), \"training,\", len(X_test), \"test\")"
   ]
  },
  {
   "cell_type": "code",
   "execution_count": 20,
   "metadata": {},
   "outputs": [],
   "source": [
    "# print(type(X_train), type(y_train))"
   ]
  },
  {
   "cell_type": "code",
   "execution_count": 194,
   "metadata": {},
   "outputs": [
    {
     "name": "stdout",
     "output_type": "stream",
     "text": [
      "\n",
      "nystroem svm fitting\n",
      "\n",
      " 30 / 240 samples\n",
      "\n",
      " 60 / 240 samples\n",
      "\n",
      " 90 / 240 samples\n",
      "\n",
      " 120 / 240 samples\n",
      "\n",
      " 150 / 240 samples\n",
      "\n",
      " 180 / 240 samples\n",
      "\n",
      " 210 / 240 samples\n",
      "\n",
      " 240 / 240 samples\n"
     ]
    },
    {
     "data": {
      "text/plain": [
       "[0.8160119343610144,\n",
       " 0.8305983756008619,\n",
       " 0.8339134758826454,\n",
       " 0.8387203712912316,\n",
       " 0.8402121664180342,\n",
       " 0.8405436764462125,\n",
       " 0.8412066965025692,\n",
       " 0.8417039615448367]"
      ]
     },
     "execution_count": 194,
     "metadata": {},
     "output_type": "execute_result"
    }
   ],
   "source": [
    "adult_nystroem = nystroem(X_train, y_train, X_test, y_test)\n",
    "adult_nystroem['scores']"
   ]
  },
  {
   "cell_type": "code",
   "execution_count": 195,
   "metadata": {},
   "outputs": [],
   "source": [
    "save(nystroem, 'nystroem')"
   ]
  },
  {
   "cell_type": "code",
   "execution_count": null,
   "metadata": {},
   "outputs": [
    {
     "name": "stdout",
     "output_type": "stream",
     "text": [
      "\n",
      "kernel svm fitting\n",
      "\n",
      "linear svm fitting\n",
      "\n",
      "nystroem svm fitting\n",
      "\n",
      " 30 / 240 samples\n",
      "\n",
      " 60 / 240 samples\n",
      "\n",
      " 90 / 240 samples\n",
      "\n",
      " 120 / 240 samples\n",
      "\n",
      " 150 / 240 samples\n",
      "\n",
      " 180 / 240 samples\n",
      "\n",
      " 210 / 240 samples\n",
      "\n",
      " 240 / 240 samples\n",
      "\n",
      "fourier svm fitting\n",
      "\n",
      " 30 / 240 samples\n",
      "\n",
      " 60 / 240 samples\n",
      "\n",
      " 90 / 240 samples\n",
      "\n",
      " 120 / 240 samples\n"
     ]
    }
   ],
   "source": [
    "adult_fit = fit_all(X_train, y_train, X_test, y_test)"
   ]
  }
 ],
 "metadata": {
  "anaconda-cloud": {},
  "kernelspec": {
   "display_name": "Python [default]",
   "language": "python",
   "name": "python3"
  },
  "language_info": {
   "codemirror_mode": {
    "name": "ipython",
    "version": 3
   },
   "file_extension": ".py",
   "mimetype": "text/x-python",
   "name": "python",
   "nbconvert_exporter": "python",
   "pygments_lexer": "ipython3",
   "version": "3.5.2"
  }
 },
 "nbformat": 4,
 "nbformat_minor": 2
}
