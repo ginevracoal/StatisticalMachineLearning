{
 "cells": [
  {
   "cell_type": "code",
   "execution_count": 2,
   "metadata": {},
   "outputs": [
    {
     "name": "stderr",
     "output_type": "stream",
     "text": [
      "Using TensorFlow backend.\n"
     ]
    }
   ],
   "source": [
    "%run -i 'functions.py'\n",
    "%run -i 'encode_csv.py'"
   ]
  },
  {
   "cell_type": "code",
   "execution_count": 3,
   "metadata": {},
   "outputs": [],
   "source": [
    "covtype = pd.read_csv('../datasets/covtype.data')"
   ]
  },
  {
   "cell_type": "code",
   "execution_count": 4,
   "metadata": {},
   "outputs": [
    {
     "data": {
      "text/plain": [
       "581011"
      ]
     },
     "execution_count": 4,
     "metadata": {},
     "output_type": "execute_result"
    }
   ],
   "source": [
    "len(covtype)"
   ]
  },
  {
   "cell_type": "code",
   "execution_count": 14,
   "metadata": {},
   "outputs": [
    {
     "data": {
      "text/html": [
       "<div>\n",
       "<style scoped>\n",
       "    .dataframe tbody tr th:only-of-type {\n",
       "        vertical-align: middle;\n",
       "    }\n",
       "\n",
       "    .dataframe tbody tr th {\n",
       "        vertical-align: top;\n",
       "    }\n",
       "\n",
       "    .dataframe thead th {\n",
       "        text-align: right;\n",
       "    }\n",
       "</style>\n",
       "<table border=\"1\" class=\"dataframe\">\n",
       "  <thead>\n",
       "    <tr style=\"text-align: right;\">\n",
       "      <th></th>\n",
       "      <th>2596</th>\n",
       "      <th>51</th>\n",
       "      <th>3</th>\n",
       "      <th>258</th>\n",
       "      <th>0</th>\n",
       "      <th>510</th>\n",
       "      <th>221</th>\n",
       "      <th>232</th>\n",
       "      <th>148</th>\n",
       "      <th>6279</th>\n",
       "      <th>...</th>\n",
       "      <th>0.34</th>\n",
       "      <th>0.35</th>\n",
       "      <th>0.36</th>\n",
       "      <th>0.37</th>\n",
       "      <th>0.38</th>\n",
       "      <th>0.39</th>\n",
       "      <th>0.40</th>\n",
       "      <th>0.41</th>\n",
       "      <th>0.42</th>\n",
       "      <th>5</th>\n",
       "    </tr>\n",
       "  </thead>\n",
       "  <tbody>\n",
       "    <tr>\n",
       "      <th>0</th>\n",
       "      <td>2590</td>\n",
       "      <td>56</td>\n",
       "      <td>2</td>\n",
       "      <td>212</td>\n",
       "      <td>-6</td>\n",
       "      <td>390</td>\n",
       "      <td>220</td>\n",
       "      <td>235</td>\n",
       "      <td>151</td>\n",
       "      <td>6225</td>\n",
       "      <td>...</td>\n",
       "      <td>0</td>\n",
       "      <td>0</td>\n",
       "      <td>0</td>\n",
       "      <td>0</td>\n",
       "      <td>0</td>\n",
       "      <td>0</td>\n",
       "      <td>0</td>\n",
       "      <td>0</td>\n",
       "      <td>0</td>\n",
       "      <td>5</td>\n",
       "    </tr>\n",
       "    <tr>\n",
       "      <th>1</th>\n",
       "      <td>2804</td>\n",
       "      <td>139</td>\n",
       "      <td>9</td>\n",
       "      <td>268</td>\n",
       "      <td>65</td>\n",
       "      <td>3180</td>\n",
       "      <td>234</td>\n",
       "      <td>238</td>\n",
       "      <td>135</td>\n",
       "      <td>6121</td>\n",
       "      <td>...</td>\n",
       "      <td>0</td>\n",
       "      <td>0</td>\n",
       "      <td>0</td>\n",
       "      <td>0</td>\n",
       "      <td>0</td>\n",
       "      <td>0</td>\n",
       "      <td>0</td>\n",
       "      <td>0</td>\n",
       "      <td>0</td>\n",
       "      <td>2</td>\n",
       "    </tr>\n",
       "    <tr>\n",
       "      <th>2</th>\n",
       "      <td>2785</td>\n",
       "      <td>155</td>\n",
       "      <td>18</td>\n",
       "      <td>242</td>\n",
       "      <td>118</td>\n",
       "      <td>3090</td>\n",
       "      <td>238</td>\n",
       "      <td>238</td>\n",
       "      <td>122</td>\n",
       "      <td>6211</td>\n",
       "      <td>...</td>\n",
       "      <td>0</td>\n",
       "      <td>0</td>\n",
       "      <td>0</td>\n",
       "      <td>0</td>\n",
       "      <td>0</td>\n",
       "      <td>0</td>\n",
       "      <td>0</td>\n",
       "      <td>0</td>\n",
       "      <td>0</td>\n",
       "      <td>2</td>\n",
       "    </tr>\n",
       "    <tr>\n",
       "      <th>3</th>\n",
       "      <td>2595</td>\n",
       "      <td>45</td>\n",
       "      <td>2</td>\n",
       "      <td>153</td>\n",
       "      <td>-1</td>\n",
       "      <td>391</td>\n",
       "      <td>220</td>\n",
       "      <td>234</td>\n",
       "      <td>150</td>\n",
       "      <td>6172</td>\n",
       "      <td>...</td>\n",
       "      <td>0</td>\n",
       "      <td>0</td>\n",
       "      <td>0</td>\n",
       "      <td>0</td>\n",
       "      <td>0</td>\n",
       "      <td>0</td>\n",
       "      <td>0</td>\n",
       "      <td>0</td>\n",
       "      <td>0</td>\n",
       "      <td>5</td>\n",
       "    </tr>\n",
       "    <tr>\n",
       "      <th>4</th>\n",
       "      <td>2579</td>\n",
       "      <td>132</td>\n",
       "      <td>6</td>\n",
       "      <td>300</td>\n",
       "      <td>-15</td>\n",
       "      <td>67</td>\n",
       "      <td>230</td>\n",
       "      <td>237</td>\n",
       "      <td>140</td>\n",
       "      <td>6031</td>\n",
       "      <td>...</td>\n",
       "      <td>0</td>\n",
       "      <td>0</td>\n",
       "      <td>0</td>\n",
       "      <td>0</td>\n",
       "      <td>0</td>\n",
       "      <td>0</td>\n",
       "      <td>0</td>\n",
       "      <td>0</td>\n",
       "      <td>0</td>\n",
       "      <td>2</td>\n",
       "    </tr>\n",
       "  </tbody>\n",
       "</table>\n",
       "<p>5 rows × 55 columns</p>\n",
       "</div>"
      ],
      "text/plain": [
       "   2596   51   3  258    0   510  221  232  148  6279 ...  0.34  0.35  0.36  \\\n",
       "0  2590   56   2  212   -6   390  220  235  151  6225 ...     0     0     0   \n",
       "1  2804  139   9  268   65  3180  234  238  135  6121 ...     0     0     0   \n",
       "2  2785  155  18  242  118  3090  238  238  122  6211 ...     0     0     0   \n",
       "3  2595   45   2  153   -1   391  220  234  150  6172 ...     0     0     0   \n",
       "4  2579  132   6  300  -15    67  230  237  140  6031 ...     0     0     0   \n",
       "\n",
       "   0.37  0.38  0.39  0.40  0.41  0.42  5  \n",
       "0     0     0     0     0     0     0  5  \n",
       "1     0     0     0     0     0     0  2  \n",
       "2     0     0     0     0     0     0  2  \n",
       "3     0     0     0     0     0     0  5  \n",
       "4     0     0     0     0     0     0  2  \n",
       "\n",
       "[5 rows x 55 columns]"
      ]
     },
     "execution_count": 14,
     "metadata": {},
     "output_type": "execute_result"
    }
   ],
   "source": [
    "covtype.head()"
   ]
  },
  {
   "cell_type": "code",
   "execution_count": 27,
   "metadata": {},
   "outputs": [
    {
     "data": {
      "text/plain": [
       "1978"
      ]
     },
     "execution_count": 27,
     "metadata": {},
     "output_type": "execute_result"
    }
   ],
   "source": [
    "# check if the first one is an ID column. It is not.\n",
    "len(np.unique(covtype.iloc[:,0]))"
   ]
  },
  {
   "cell_type": "code",
   "execution_count": 15,
   "metadata": {},
   "outputs": [
    {
     "data": {
      "text/plain": [
       "Index(['2596', '51', '3', '258', '0', '510', '221', '232', '148', '6279', '1',\n",
       "       '0.1', '0.2', '0.3', '0.4', '0.5', '0.6', '0.7', '0.8', '0.9', '0.10',\n",
       "       '0.11', '0.12', '0.13', '0.14', '0.15', '0.16', '0.17', '0.18', '0.19',\n",
       "       '0.20', '0.21', '0.22', '0.23', '0.24', '0.25', '0.26', '0.27', '0.28',\n",
       "       '0.29', '0.30', '0.31', '1.1', '0.32', '0.33', '0.34', '0.35', '0.36',\n",
       "       '0.37', '0.38', '0.39', '0.40', '0.41', '0.42', '5'],\n",
       "      dtype='object')"
      ]
     },
     "execution_count": 15,
     "metadata": {},
     "output_type": "execute_result"
    }
   ],
   "source": [
    "covtype.columns"
   ]
  },
  {
   "cell_type": "code",
   "execution_count": 16,
   "metadata": {},
   "outputs": [
    {
     "name": "stdout",
     "output_type": "stream",
     "text": [
      "Classifications: from  1 to  7\n"
     ]
    }
   ],
   "source": [
    "print('Classifications: from ', min(covtype['5']), 'to ', max(covtype['5']))"
   ]
  },
  {
   "cell_type": "code",
   "execution_count": 4,
   "metadata": {},
   "outputs": [
    {
     "data": {
      "text/html": [
       "<div>\n",
       "<style scoped>\n",
       "    .dataframe tbody tr th:only-of-type {\n",
       "        vertical-align: middle;\n",
       "    }\n",
       "\n",
       "    .dataframe tbody tr th {\n",
       "        vertical-align: top;\n",
       "    }\n",
       "\n",
       "    .dataframe thead th {\n",
       "        text-align: right;\n",
       "    }\n",
       "</style>\n",
       "<table border=\"1\" class=\"dataframe\">\n",
       "  <thead>\n",
       "    <tr style=\"text-align: right;\">\n",
       "      <th></th>\n",
       "      <th>2596</th>\n",
       "      <th>51</th>\n",
       "      <th>3</th>\n",
       "      <th>258</th>\n",
       "      <th>0</th>\n",
       "      <th>510</th>\n",
       "      <th>221</th>\n",
       "      <th>232</th>\n",
       "      <th>148</th>\n",
       "      <th>6279</th>\n",
       "      <th>...</th>\n",
       "      <th>0.33</th>\n",
       "      <th>0.34</th>\n",
       "      <th>0.35</th>\n",
       "      <th>0.36</th>\n",
       "      <th>0.37</th>\n",
       "      <th>0.38</th>\n",
       "      <th>0.39</th>\n",
       "      <th>0.40</th>\n",
       "      <th>0.41</th>\n",
       "      <th>0.42</th>\n",
       "    </tr>\n",
       "  </thead>\n",
       "  <tbody>\n",
       "    <tr>\n",
       "      <th>0</th>\n",
       "      <td>-0.184775</td>\n",
       "      <td>-0.276825</td>\n",
       "      <td>-0.183390</td>\n",
       "      <td>-0.041108</td>\n",
       "      <td>-0.067725</td>\n",
       "      <td>-0.275418</td>\n",
       "      <td>0.030921</td>\n",
       "      <td>0.045989</td>\n",
       "      <td>0.033353</td>\n",
       "      <td>0.591763</td>\n",
       "      <td>...</td>\n",
       "      <td>-0.044175</td>\n",
       "      <td>-0.090392</td>\n",
       "      <td>-0.077716</td>\n",
       "      <td>-0.002773</td>\n",
       "      <td>-0.003255</td>\n",
       "      <td>-0.000205</td>\n",
       "      <td>-0.000513</td>\n",
       "      <td>-0.026803</td>\n",
       "      <td>-0.023762</td>\n",
       "      <td>-0.01506</td>\n",
       "    </tr>\n",
       "    <tr>\n",
       "      <th>1</th>\n",
       "      <td>-0.077722</td>\n",
       "      <td>-0.046269</td>\n",
       "      <td>-0.077329</td>\n",
       "      <td>-0.001022</td>\n",
       "      <td>0.024007</td>\n",
       "      <td>0.116601</td>\n",
       "      <td>0.086039</td>\n",
       "      <td>0.057800</td>\n",
       "      <td>-0.029639</td>\n",
       "      <td>0.577264</td>\n",
       "      <td>...</td>\n",
       "      <td>-0.044175</td>\n",
       "      <td>-0.090392</td>\n",
       "      <td>-0.077716</td>\n",
       "      <td>-0.002773</td>\n",
       "      <td>-0.003255</td>\n",
       "      <td>-0.000205</td>\n",
       "      <td>-0.000513</td>\n",
       "      <td>-0.026803</td>\n",
       "      <td>-0.023762</td>\n",
       "      <td>-0.01506</td>\n",
       "    </tr>\n",
       "    <tr>\n",
       "      <th>2</th>\n",
       "      <td>-0.087227</td>\n",
       "      <td>-0.001825</td>\n",
       "      <td>0.059035</td>\n",
       "      <td>-0.019634</td>\n",
       "      <td>0.092482</td>\n",
       "      <td>0.103955</td>\n",
       "      <td>0.101787</td>\n",
       "      <td>0.057800</td>\n",
       "      <td>-0.080820</td>\n",
       "      <td>0.589811</td>\n",
       "      <td>...</td>\n",
       "      <td>-0.044175</td>\n",
       "      <td>-0.090392</td>\n",
       "      <td>-0.077716</td>\n",
       "      <td>-0.002773</td>\n",
       "      <td>-0.003255</td>\n",
       "      <td>-0.000205</td>\n",
       "      <td>-0.000513</td>\n",
       "      <td>-0.026803</td>\n",
       "      <td>-0.023762</td>\n",
       "      <td>-0.01506</td>\n",
       "    </tr>\n",
       "    <tr>\n",
       "      <th>3</th>\n",
       "      <td>-0.182274</td>\n",
       "      <td>-0.307381</td>\n",
       "      <td>-0.183390</td>\n",
       "      <td>-0.083342</td>\n",
       "      <td>-0.061265</td>\n",
       "      <td>-0.275277</td>\n",
       "      <td>0.030921</td>\n",
       "      <td>0.042052</td>\n",
       "      <td>0.029416</td>\n",
       "      <td>0.584374</td>\n",
       "      <td>...</td>\n",
       "      <td>-0.044175</td>\n",
       "      <td>-0.090392</td>\n",
       "      <td>-0.077716</td>\n",
       "      <td>-0.002773</td>\n",
       "      <td>-0.003255</td>\n",
       "      <td>-0.000205</td>\n",
       "      <td>-0.000513</td>\n",
       "      <td>-0.026803</td>\n",
       "      <td>-0.023762</td>\n",
       "      <td>-0.01506</td>\n",
       "    </tr>\n",
       "    <tr>\n",
       "      <th>4</th>\n",
       "      <td>-0.190278</td>\n",
       "      <td>-0.065714</td>\n",
       "      <td>-0.122784</td>\n",
       "      <td>0.021884</td>\n",
       "      <td>-0.079353</td>\n",
       "      <td>-0.320802</td>\n",
       "      <td>0.070291</td>\n",
       "      <td>0.053863</td>\n",
       "      <td>-0.009954</td>\n",
       "      <td>0.564717</td>\n",
       "      <td>...</td>\n",
       "      <td>-0.044175</td>\n",
       "      <td>-0.090392</td>\n",
       "      <td>-0.077716</td>\n",
       "      <td>-0.002773</td>\n",
       "      <td>-0.003255</td>\n",
       "      <td>-0.000205</td>\n",
       "      <td>-0.000513</td>\n",
       "      <td>-0.026803</td>\n",
       "      <td>-0.023762</td>\n",
       "      <td>-0.01506</td>\n",
       "    </tr>\n",
       "  </tbody>\n",
       "</table>\n",
       "<p>5 rows × 54 columns</p>\n",
       "</div>"
      ],
      "text/plain": [
       "       2596        51         3       258         0       510       221  \\\n",
       "0 -0.184775 -0.276825 -0.183390 -0.041108 -0.067725 -0.275418  0.030921   \n",
       "1 -0.077722 -0.046269 -0.077329 -0.001022  0.024007  0.116601  0.086039   \n",
       "2 -0.087227 -0.001825  0.059035 -0.019634  0.092482  0.103955  0.101787   \n",
       "3 -0.182274 -0.307381 -0.183390 -0.083342 -0.061265 -0.275277  0.030921   \n",
       "4 -0.190278 -0.065714 -0.122784  0.021884 -0.079353 -0.320802  0.070291   \n",
       "\n",
       "        232       148      6279   ...         0.33      0.34      0.35  \\\n",
       "0  0.045989  0.033353  0.591763   ...    -0.044175 -0.090392 -0.077716   \n",
       "1  0.057800 -0.029639  0.577264   ...    -0.044175 -0.090392 -0.077716   \n",
       "2  0.057800 -0.080820  0.589811   ...    -0.044175 -0.090392 -0.077716   \n",
       "3  0.042052  0.029416  0.584374   ...    -0.044175 -0.090392 -0.077716   \n",
       "4  0.053863 -0.009954  0.564717   ...    -0.044175 -0.090392 -0.077716   \n",
       "\n",
       "       0.36      0.37      0.38      0.39      0.40      0.41     0.42  \n",
       "0 -0.002773 -0.003255 -0.000205 -0.000513 -0.026803 -0.023762 -0.01506  \n",
       "1 -0.002773 -0.003255 -0.000205 -0.000513 -0.026803 -0.023762 -0.01506  \n",
       "2 -0.002773 -0.003255 -0.000205 -0.000513 -0.026803 -0.023762 -0.01506  \n",
       "3 -0.002773 -0.003255 -0.000205 -0.000513 -0.026803 -0.023762 -0.01506  \n",
       "4 -0.002773 -0.003255 -0.000205 -0.000513 -0.026803 -0.023762 -0.01506  \n",
       "\n",
       "[5 rows x 54 columns]"
      ]
     },
     "execution_count": 4,
     "metadata": {},
     "output_type": "execute_result"
    }
   ],
   "source": [
    "X = covtype.drop(['5'], axis=1) \n",
    "le = LabelEncoder().fit(covtype['5']) \n",
    "y = le.transform(covtype['5'])\n",
    "\n",
    "# encode data\n",
    "encoded, encoders = number_encode_features(X)\n",
    "\n",
    "# scale columns between -1 and 1\n",
    "X = scale_columns(X)\n",
    "\n",
    "X.head()"
   ]
  },
  {
   "cell_type": "code",
   "execution_count": 47,
   "metadata": {},
   "outputs": [
    {
     "name": "stdout",
     "output_type": "stream",
     "text": [
      "train: 464808 , test: 116203\n",
      "train: 5000 , test: 500\n"
     ]
    }
   ],
   "source": [
    "X_train, X_test, y_train, y_test = train_test_split(X, y, test_size=0.2, random_state=13)\n",
    "print(\"train:\", len(X_train), \", test:\", len(X_test))\n",
    "\n",
    "# taking a subset\n",
    "\n",
    "n = 5000 \n",
    "X_train = X_train[:n]\n",
    "y_train = y_train[:n]\n",
    "X_test = X_test[:n//10]\n",
    "y_test = y_test[:n//10]\n",
    "\n",
    "print(\"train:\", len(X_train), \", test:\", len(X_test))"
   ]
  },
  {
   "cell_type": "code",
   "execution_count": 48,
   "metadata": {},
   "outputs": [
    {
     "name": "stdout",
     "output_type": "stream",
     "text": [
      "\n",
      "using gamma= 0.01\n",
      "\n",
      "nystroem svm fitting\n",
      "\n",
      " 30 / 300 samples\n",
      "\n",
      " 60 / 300 samples\n",
      "\n",
      " 90 / 300 samples\n",
      "\n",
      " 120 / 300 samples\n",
      "\n",
      " 150 / 300 samples\n",
      "\n",
      " 180 / 300 samples\n",
      "\n",
      " 210 / 300 samples\n",
      "\n",
      " 240 / 300 samples\n",
      "\n",
      " 270 / 300 samples\n",
      "\n",
      " 300 / 300 samples\n",
      "\n",
      "fourier svm fitting\n",
      "\n",
      " 30 / 300 samples\n",
      "\n",
      " 60 / 300 samples\n",
      "\n",
      " 90 / 300 samples\n",
      "\n",
      " 120 / 300 samples\n",
      "\n",
      " 150 / 300 samples\n",
      "\n",
      " 180 / 300 samples\n",
      "\n",
      " 210 / 300 samples\n",
      "\n",
      " 240 / 300 samples\n",
      "\n",
      " 270 / 300 samples\n",
      "\n",
      " 300 / 300 samples\n",
      "\n",
      "kernel svm fitting\n",
      "\n",
      "linear svm fitting\n"
     ]
    },
    {
     "data": {
      "image/png": "[encoded data removed]",
      "text/plain": [
       "<Figure size 576x576 with 2 Axes>"
      ]
     },
     "metadata": {},
     "output_type": "display_data"
    }
   ],
   "source": [
    "covtype_fit = fit_all(X_train, y_train, X_test, y_test)\n",
    "plot_results(covtype_fit)"
   ]
  },
  {
   "cell_type": "code",
   "execution_count": 49,
   "metadata": {},
   "outputs": [
    {
     "name": "stdout",
     "output_type": "stream",
     "text": [
      "train: 464808 , test: 116203\n",
      "train: 8000 , test: 800\n"
     ]
    }
   ],
   "source": [
    "X_train, X_test, y_train, y_test = train_test_split(X, y, test_size=0.2, random_state=13)\n",
    "print(\"train:\", len(X_train), \", test:\", len(X_test))\n",
    "\n",
    "# taking a subset\n",
    "\n",
    "n = 8000 \n",
    "X_train = X_train[:n]\n",
    "y_train = y_train[:n]\n",
    "X_test = X_test[:n//10]\n",
    "y_test = y_test[:n//10]\n",
    "\n",
    "print(\"train:\", len(X_train), \", test:\", len(X_test))"
   ]
  },
  {
   "cell_type": "code",
   "execution_count": 50,
   "metadata": {},
   "outputs": [
    {
     "name": "stdout",
     "output_type": "stream",
     "text": [
      "\n",
      "using gamma= 0.01\n",
      "\n",
      "nystroem svm fitting\n",
      "\n",
      " 30 / 300 samples\n",
      "\n",
      " 60 / 300 samples\n",
      "\n",
      " 90 / 300 samples\n",
      "\n",
      " 120 / 300 samples\n",
      "\n",
      " 150 / 300 samples\n",
      "\n",
      " 180 / 300 samples\n",
      "\n",
      " 210 / 300 samples\n",
      "\n",
      " 240 / 300 samples\n",
      "\n",
      " 270 / 300 samples\n",
      "\n",
      " 300 / 300 samples\n",
      "\n",
      "fourier svm fitting\n",
      "\n",
      " 30 / 300 samples\n",
      "\n",
      " 60 / 300 samples\n",
      "\n",
      " 90 / 300 samples\n",
      "\n",
      " 120 / 300 samples\n",
      "\n",
      " 150 / 300 samples\n",
      "\n",
      " 180 / 300 samples\n",
      "\n",
      " 210 / 300 samples\n",
      "\n",
      " 240 / 300 samples\n",
      "\n",
      " 270 / 300 samples\n",
      "\n",
      " 300 / 300 samples\n",
      "\n",
      "kernel svm fitting\n",
      "\n",
      "linear svm fitting\n"
     ]
    },
    {
     "data": {
      "image/png": "[encoded data removed]",
      "text/plain": [
       "<Figure size 576x576 with 2 Axes>"
      ]
     },
     "metadata": {},
     "output_type": "display_data"
    }
   ],
   "source": [
    "covtype_fit = fit_all(X_train, y_train, X_test, y_test)\n",
    "plot_results(covtype_fit)"
   ]
  },
  {
   "cell_type": "code",
   "execution_count": 7,
   "metadata": {},
   "outputs": [
    {
     "name": "stdout",
     "output_type": "stream",
     "text": [
      "train: 464808 , test: 116203\n",
      "train: 12000 , test: 1200\n"
     ]
    }
   ],
   "source": [
    "X_train, X_test, y_train, y_test = train_test_split(X, y, test_size=0.2, random_state=13)\n",
    "print(\"train:\", len(X_train), \", test:\", len(X_test))\n",
    "\n",
    "# taking a subset\n",
    "\n",
    "n = 12000 \n",
    "X_train = X_train[:n]\n",
    "y_train = y_train[:n]\n",
    "X_test = X_test[:n//10]\n",
    "y_test = y_test[:n//10]\n",
    "\n",
    "print(\"train:\", len(X_train), \", test:\", len(X_test))"
   ]
  },
  {
   "cell_type": "code",
   "execution_count": null,
   "metadata": {},
   "outputs": [],
   "source": [
    "covtype_fit = fit_all(X_train, y_train, X_test, y_test, scale_samples=10)\n",
    "plot_results(covtype_fit)\n",
    "# già salvato"
   ]
  },
  {
   "cell_type": "code",
   "execution_count": 11,
   "metadata": {},
   "outputs": [
    {
     "name": "stdout",
     "output_type": "stream",
     "text": [
      "train: 464808 , test: 116203\n",
      "train: 16000 , test: 1600\n"
     ]
    }
   ],
   "source": [
    "X_train, X_test, y_train, y_test = train_test_split(X, y, test_size=0.2, random_state=13)\n",
    "print(\"train:\", len(X_train), \", test:\", len(X_test))\n",
    "\n",
    "# taking a subset\n",
    "\n",
    "n = 16000 \n",
    "X_train = X_train[:n]\n",
    "y_train = y_train[:n]\n",
    "X_test = X_test[:n//10]\n",
    "y_test = y_test[:n//10]\n",
    "\n",
    "print(\"train:\", len(X_train), \", test:\", len(X_test))"
   ]
  },
  {
   "cell_type": "code",
   "execution_count": 12,
   "metadata": {},
   "outputs": [
    {
     "name": "stdout",
     "output_type": "stream",
     "text": [
      "\n",
      "using gamma= 0.01\n",
      "\n",
      "nystroem svm fitting\n",
      "\n",
      " 11 / 88 samples\n",
      "\n",
      " 22 / 88 samples\n",
      "\n",
      " 33 / 88 samples\n",
      "\n",
      " 44 / 88 samples\n",
      "\n",
      " 55 / 88 samples\n",
      "\n",
      " 66 / 88 samples\n",
      "\n",
      " 77 / 88 samples\n",
      "\n",
      " 88 / 88 samples\n",
      "\n",
      "fourier svm fitting\n",
      "\n",
      " 11 / 88 samples\n",
      "\n",
      " 22 / 88 samples\n",
      "\n",
      " 33 / 88 samples\n",
      "\n",
      " 44 / 88 samples\n",
      "\n",
      " 55 / 88 samples\n",
      "\n",
      " 66 / 88 samples\n",
      "\n",
      " 77 / 88 samples\n",
      "\n",
      " 88 / 88 samples\n",
      "\n",
      "kernel svm fitting\n",
      "\n",
      "linear svm fitting\n"
     ]
    },
    {
     "data": {
      "image/png": "[encoded data removed]",
      "text/plain": [
       "<Figure size 576x576 with 2 Axes>"
      ]
     },
     "metadata": {},
     "output_type": "display_data"
    }
   ],
   "source": [
    "covtype_fit = fit_all(X_train, y_train, X_test, y_test, scale_samples=11)\n",
    "plot_results(covtype_fit)"
   ]
  },
  {
   "cell_type": "markdown",
   "metadata": {},
   "source": [
    "### Mandare Job su galileo"
   ]
  },
  {
   "cell_type": "code",
   "execution_count": null,
   "metadata": {},
   "outputs": [],
   "source": [
    "job_results = pickle.load(open('pickle/covtype.pickle','rb'))\n",
    "plot_results(job_results)"
   ]
  },
  {
   "cell_type": "markdown",
   "metadata": {},
   "source": [
    "### Provare anche regressione"
   ]
  }
 ],
 "metadata": {
  "kernelspec": {
   "display_name": "Python 3",
   "language": "python",
   "name": "python3"
  },
  "language_info": {
   "codemirror_mode": {
    "name": "ipython",
    "version": 3
   },
   "file_extension": ".py",
   "mimetype": "text/x-python",
   "name": "python",
   "nbconvert_exporter": "python",
   "pygments_lexer": "ipython3",
   "version": "3.6.4"
  }
 },
 "nbformat": 4,
 "nbformat_minor": 2
}
