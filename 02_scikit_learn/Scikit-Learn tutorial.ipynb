{
 "cells": [
  {
   "cell_type": "markdown",
   "metadata": {},
   "source": [
    "# Scikit-learn: a tutorial\n",
    "This is a brief tutorial on scikit-learn, which I crafted from online material, in particular from the scikit-learn webpage.\n",
    "\n",
    "Scikit-learn is a python library with a lot of machine learning algorithms implemented, both for supervised and unsupervised learning. "
   ]
  },
  {
   "cell_type": "code",
   "execution_count": 1,
   "metadata": {},
   "outputs": [],
   "source": [
    "%matplotlib inline\n",
    "import matplotlib.pyplot as plt\n",
    "import numpy as np"
   ]
  },
  {
   "cell_type": "markdown",
   "metadata": {},
   "source": [
    "### Datasets\n",
    "Scikit-learn has few built-in datasets for use. These are in the module `dataset`."
   ]
  },
  {
   "cell_type": "code",
   "execution_count": 2,
   "metadata": {},
   "outputs": [
    {
     "data": {
      "text/plain": [
       "['DESCR', 'data', 'feature_names', 'target', 'target_names']"
      ]
     },
     "execution_count": 2,
     "metadata": {},
     "output_type": "execute_result"
    }
   ],
   "source": [
    "from sklearn import datasets \n",
    "iris = datasets.load_iris()\n",
    "dir(iris)"
   ]
  },
  {
   "cell_type": "markdown",
   "metadata": {},
   "source": [
    "Each datasets contains input data, targets, and input and target names. It may contain also additional information, e.g. raw images in case of image datasets. Pandas dataframes can be used as well. "
   ]
  },
  {
   "cell_type": "code",
   "execution_count": 3,
   "metadata": {},
   "outputs": [
    {
     "name": "stdout",
     "output_type": "stream",
     "text": [
      "These are the attibutes of digits  ['DESCR', 'data', 'images', 'target', 'target_names']\n"
     ]
    },
    {
     "data": {
      "text/plain": [
       "<matplotlib.image.AxesImage at 0x7febdb2e63c8>"
      ]
     },
     "execution_count": 3,
     "metadata": {},
     "output_type": "execute_result"
    },
    {
     "data": {
      "image/png": "[encoded data removed]",
      "text/plain": [
       "<matplotlib.figure.Figure at 0x7febdb8d1d30>"
      ]
     },
     "metadata": {},
     "output_type": "display_data"
    }
   ],
   "source": [
    "digits = datasets.load_digits()\n",
    "print(\"These are the attibutes of digits \", dir(digits))\n",
    "plt.imshow(digits.images[-1], cmap=plt.cm.gray_r) "
   ]
  },
  {
   "cell_type": "code",
   "execution_count": 4,
   "metadata": {},
   "outputs": [
    {
     "name": "stdout",
     "output_type": "stream",
     "text": [
      "<class 'numpy.ndarray'>\n",
      "(1797, 8, 8)\n",
      "[[ 0.  0. 10. 14.  8.  1.  0.  0.]\n",
      " [ 0.  2. 16. 14.  6.  1.  0.  0.]\n",
      " [ 0.  0. 15. 15.  8. 15.  0.  0.]\n",
      " [ 0.  0.  5. 16. 16. 10.  0.  0.]\n",
      " [ 0.  0. 12. 15. 15. 12.  0.  0.]\n",
      " [ 0.  4. 16.  6.  4. 16.  6.  0.]\n",
      " [ 0.  8. 16. 10.  8. 16.  8.  0.]\n",
      " [ 0.  1.  8. 12. 14. 12.  1.  0.]]\n"
     ]
    }
   ],
   "source": [
    "print(type(digits.images[-1]))\n",
    "#these are 8x8 pixels images . \n",
    "print(digits.images.shape)\n",
    "print(digits.images[-1])\n"
   ]
  },
  {
   "cell_type": "markdown",
   "metadata": {},
   "source": [
    "Datasets in scikit-learn consist of the input vector and of the target vector, passed separately to functions (and stored in separate variables). Input data is a numpy array with two dimensions. Rows contain single data points, columns cointain features. "
   ]
  },
  {
   "cell_type": "code",
   "execution_count": 5,
   "metadata": {},
   "outputs": [
    {
     "name": "stdout",
     "output_type": "stream",
     "text": [
      "[[ 0.  0. 10. 14.  8.  1.  0.  0.  0.  2. 16. 14.  6.  1.  0.  0.  0.  0.\n",
      "  15. 15.  8. 15.  0.  0.  0.  0.  5. 16. 16. 10.  0.  0.  0.  0. 12. 15.\n",
      "  15. 12.  0.  0.  0.  4. 16.  6.  4. 16.  6.  0.  0.  8. 16. 10.  8. 16.\n",
      "   8.  0.  0.  1.  8. 12. 14. 12.  1.  0.]]\n"
     ]
    },
    {
     "data": {
      "text/plain": [
       "array([[ 0.,  0.,  5., ...,  0.,  0.,  0.],\n",
       "       [ 0.,  0.,  0., ..., 10.,  0.,  0.],\n",
       "       [ 0.,  0.,  0., ..., 16.,  9.,  0.],\n",
       "       ...,\n",
       "       [ 0.,  0.,  1., ...,  6.,  0.,  0.],\n",
       "       [ 0.,  0.,  2., ..., 12.,  0.,  0.],\n",
       "       [ 0.,  0., 10., ..., 12.,  1.,  0.]])"
      ]
     },
     "execution_count": 5,
     "metadata": {},
     "output_type": "execute_result"
    }
   ],
   "source": [
    "# we can in principle reshape the image to trasnform in into a dataset\n",
    "#this transforms a single input point in a row\n",
    "print(digits.images[-1].reshape((1, -1))) \n",
    "# this transforms the whole input images into a row\n",
    "digits.images.reshape((digits.images.shape[0], -1))"
   ]
  },
  {
   "cell_type": "code",
   "execution_count": 6,
   "metadata": {},
   "outputs": [
    {
     "name": "stdout",
     "output_type": "stream",
     "text": [
      "[[ 0.  0.  5. ...  0.  0.  0.]\n",
      " [ 0.  0.  0. ... 10.  0.  0.]\n",
      " [ 0.  0.  0. ... 16.  9.  0.]\n",
      " ...\n",
      " [ 0.  0.  1. ...  6.  0.  0.]\n",
      " [ 0.  0.  2. ... 12.  0.  0.]\n",
      " [ 0.  0. 10. ... 12.  1.  0.]]\n"
     ]
    }
   ],
   "source": [
    "#though the dataset is already prepared!\n",
    "print(digits.data)"
   ]
  },
  {
   "cell_type": "markdown",
   "metadata": {},
   "source": [
    "#### Basic Operations on  Datasets\n",
    "A cool thing of scikit-learn is that is has functions to perform routine operations on datasets, including: \n",
    "* generating Test and Train datasets. The relevant function is `train_test_split` from the module `model_selection`.\n",
    "* Standardising input data. The function scale of the module `preprocessing` provides a quick and easy way to perform this operation on a single array-like dataset.\n"
   ]
  },
  {
   "cell_type": "code",
   "execution_count": 7,
   "metadata": {},
   "outputs": [
    {
     "name": "stdout",
     "output_type": "stream",
     "text": [
      "(150, 4) (150,)\n"
     ]
    }
   ],
   "source": [
    "from sklearn.model_selection import train_test_split\n",
    "\n",
    "#default test_size is 0.25\n",
    "#random state is the seed of the random sampler used to generate test and train datasets\n",
    "#data and target must have the same number of rows, i.e. same first coordinate of shape\n",
    "print(iris.data.shape,iris.target.shape)\n",
    "iris_X_train, iris_X_test, iris_y_train, iris_y_test = \\\n",
    "    train_test_split(iris.data, iris.target, test_size=0.4, random_state=0)\n",
    "\n"
   ]
  },
  {
   "cell_type": "code",
   "execution_count": 8,
   "metadata": {},
   "outputs": [
    {
     "name": "stdout",
     "output_type": "stream",
     "text": [
      "Non standardised\n",
      " [[6.  3.4 4.5 1.6]\n",
      " [4.8 3.1 1.6 0.2]\n",
      " [5.8 2.7 5.1 1.9]\n",
      " [5.6 2.7 4.2 1.3]\n",
      " [5.6 2.9 3.6 1.3]]\n",
      "Standardised\n",
      " [[ 0.18206758  0.71103882  0.45664061  0.5584109 ]\n",
      " [-1.17402201  0.00522823 -1.10334891 -1.19183221]\n",
      " [-0.04394735 -0.93585257  0.77939706  0.93346299]\n",
      " [-0.26996228 -0.93585257  0.29526238  0.1833588 ]\n",
      " [-0.26996228 -0.46531217 -0.02749407  0.1833588 ]]\n"
     ]
    }
   ],
   "source": [
    "from sklearn import preprocessing\n",
    "\n",
    "# si sottrae la media e si divide per la deviazione standard\n",
    "iris_X_scaled = preprocessing.scale(iris_X_train)\n",
    "print(\"Non standardised\\n\",iris_X_train[:5,:])\n",
    "print(\"Standardised\\n\",iris_X_scaled[:5,:])\n",
    "\n",
    "# non posso standardizzare i dati di test su una media diversa"
   ]
  },
  {
   "cell_type": "markdown",
   "metadata": {},
   "source": [
    "#### Transformer API and Preprocessing\n",
    "Scikit-learn has some API/ interfaces which are very useful to automate the learning process.\n",
    "As data preprocessing has an important role in learning - typically dataset are standardised or normalised in some way - there several classes implementing the Transformer API. \n",
    "\n",
    "The two relevant methods of a transformer object are `fit()` and `transform()`. The first one is used to train the transformer, e.g. define the standardisation for each feature, the second one to apply the transformation to novel data. Transformer objects can be trained on the train datasets and then applied to test datasets, hence they should be the methods of choice.  \n",
    "\n",
    "Data preprocessing is usually performed through the `Scaler` objects, which are of several types:\n",
    "* `StandardScaler` performs classic standardisation;\n",
    "* `MinMaxScaler` normalises data into [0,1], where 0 is the minimum and 1 is the maximum of each feature, but different ranges can be specified as well;\n",
    "* `MaxAbsScaler` divides each feature for the absolute value, hence data is scaled in [-1,1];\n",
    "* `RobustScaler` deals better with data with outliers, as it removes the median and scales the data according to the quantile range;\n",
    "\n",
    "Other methods perform non-linear transformations:\n",
    "* `QuantileTransformer` performs a non-linear transformation using quantiles. Better for outliers, but being non-linear, it breaks the correlation. \n",
    "* `Normalizer` scales individual samples to have unit norm. "
   ]
  },
  {
   "cell_type": "code",
   "execution_count": 9,
   "metadata": {},
   "outputs": [
    {
     "name": "stdout",
     "output_type": "stream",
     "text": [
      "Non standardised\n",
      " [[5.8 2.8 5.1 2.4]\n",
      " [6.  2.2 4.  1. ]\n",
      " [5.5 4.2 1.4 0.2]\n",
      " [7.3 2.9 6.3 1.8]\n",
      " [5.  3.4 1.5 0.2]]\n",
      "Standardised\n",
      " [[-0.04394735 -0.70058237  0.77939706  1.55854981]\n",
      " [ 0.18206758 -2.11220356  0.1876769  -0.19169329]\n",
      " [-0.38296975  2.59320041 -1.21093439 -1.19183221]\n",
      " [ 1.65116464 -0.46531217  1.42490997  0.80844563]\n",
      " [-0.94800707  0.71103882 -1.15714165 -1.19183221]]\n"
     ]
    }
   ],
   "source": [
    "scaler = preprocessing.StandardScaler()\n",
    "scaler.fit(iris_X_train)\n",
    "iris_X_scaled = scaler.transform(iris_X_train)\n",
    "# uso lo stesso scaler del train set sul test set, invece di creare uno nuovo\n",
    "iris_X_test_scaled = scaler.transform(iris_X_test)\n",
    "\n",
    "print(\"Non standardised\\n\",iris_X_test[:5,:])\n",
    "print(\"Standardised\\n\",iris_X_test_scaled[:5,:])"
   ]
  },
  {
   "cell_type": "code",
   "execution_count": 10,
   "metadata": {},
   "outputs": [
    {
     "name": "stdout",
     "output_type": "stream",
     "text": [
      "Non standardised\n",
      " [[5.8 2.8 5.1 2.4]\n",
      " [6.  2.2 4.  1. ]\n",
      " [5.5 4.2 1.4 0.2]\n",
      " [7.3 2.9 6.3 1.8]\n",
      " [5.  3.4 1.5 0.2]]\n",
      "Standardised\n",
      " [[0.41666667 0.27272727 0.68965517 0.95833333]\n",
      " [0.47222222 0.         0.5        0.375     ]\n",
      " [0.33333333 0.90909091 0.05172414 0.04166667]\n",
      " [0.83333333 0.31818182 0.89655172 0.70833333]\n",
      " [0.19444444 0.54545455 0.06896552 0.04166667]]\n"
     ]
    }
   ],
   "source": [
    "scaler = preprocessing.MinMaxScaler()\n",
    "scaler.fit(iris_X_train)\n",
    "iris_X_scaled = scaler.transform(iris_X_train)\n",
    "iris_X_test_scaled = scaler.transform(iris_X_test)\n",
    "\n",
    "print(\"Non standardised\\n\",iris_X_test[:5,:])\n",
    "print(\"Standardised\\n\",iris_X_test_scaled[:5,:])"
   ]
  },
  {
   "cell_type": "code",
   "execution_count": 18,
   "metadata": {},
   "outputs": [],
   "source": [
    "#Each scaler has some options, use help or refer to scikit-learn manual!\n",
    "# help(preprocessing.MinMaxScaler) "
   ]
  },
  {
   "cell_type": "markdown",
   "metadata": {},
   "source": [
    "### Supervised Learning\n",
    "Regression and classification in scikit-learn follow a similar pattern. Different methods are based on instances of the `Estimator` class, which provides methods to fit the estimator - `fit()`, to predict on new data - `predict()`, and to score the model - `score()`.   \n",
    "\n",
    "We will start with an example on linear regression, on a diabetis dataset. The diabetes dataset consists of 10 physiological variables (age, sex, weight, blood pressure) measure on 442 patients, and an indication of disease progression after one year.\n",
    "\n",
    "For linear regression, there is the module `linear_model`, which has several implementation of linear regression, the basic one and some regularised versions. \n"
   ]
  },
  {
   "cell_type": "code",
   "execution_count": 12,
   "metadata": {},
   "outputs": [],
   "source": [
    "# preparing the dataset\n",
    "diabetes = datasets.load_diabetes()\n",
    "# split\n",
    "diabetes_X_train, diabetes_X_test, diabetes_y_train, diabetes_y_test \\\n",
    "    = train_test_split(diabetes.data, diabetes.target, random_state=0)\n",
    "scaler = preprocessing.StandardScaler().fit(diabetes_X_train)   \n",
    "diabetes_X_train = scaler.transform(diabetes_X_train)\n",
    "diabetes_X_test = scaler.transform(diabetes_X_test)"
   ]
  },
  {
   "cell_type": "code",
   "execution_count": 13,
   "metadata": {},
   "outputs": [
    {
     "name": "stdout",
     "output_type": "stream",
     "text": [
      "[ -2.08201439  -9.93774758  28.8548248   14.33603969 -26.52011217\n",
      "  12.38436283  -0.42239104   6.59599005  34.458465     1.41463977]\n",
      "Explained variance score: 0.35940090989715523\n"
     ]
    }
   ],
   "source": [
    "from sklearn import linear_model\n",
    "regressor = linear_model.LinearRegression()\n",
    "regressor.fit(diabetes_X_train, diabetes_y_train)\n",
    "print(regressor.coef_)\n",
    "print(\"Explained variance score:\", regressor.score(diabetes_X_test, diabetes_y_test))"
   ]
  },
  {
   "cell_type": "markdown",
   "metadata": {},
   "source": [
    "The explained variance regression score measures the fraction of variance which is captured by the regression models. \n",
    "If $y^*$ is the estimated target output, and y the corresponding (correct) target output, and $Var$ is the Variance, the square of the standard deviation, then the explained variance is estimated as follow:\n",
    "\n",
    "$\\mbox{explained_variance}(y,y^*) = 1 - \\frac{Var[y-y^*]}{Var[y]}$"
   ]
  },
  {
   "cell_type": "code",
   "execution_count": 14,
   "metadata": {},
   "outputs": [
    {
     "data": {
      "text/plain": [
       "[<matplotlib.lines.Line2D at 0x7febdb260710>]"
      ]
     },
     "execution_count": 14,
     "metadata": {},
     "output_type": "execute_result"
    },
    {
     "data": {
      "image/png": "[encoded data removed]",
      "text/plain": [
       "<matplotlib.figure.Figure at 0x7febdb2c6fd0>"
      ]
     },
     "metadata": {},
     "output_type": "display_data"
    }
   ],
   "source": [
    "#We can use predict on a matrix, and get a vector of predictions. \n",
    "y_predict = regressor.predict(diabetes_X_test)\n",
    "plt.figure()\n",
    "plt.scatter(diabetes_y_test,y_predict)\n",
    "plt.plot(np.linspace(0,350,100),np.linspace(0,350,100))\n"
   ]
  },
  {
   "cell_type": "markdown",
   "metadata": {},
   "source": [
    "In the module `linear_model`, we have several linear classifiers, including some that are regularised, in particular `Ridge` and `Lasso` regression. These can be used similarly to the linear classifier above, "
   ]
  },
  {
   "cell_type": "code",
   "execution_count": 15,
   "metadata": {},
   "outputs": [
    {
     "name": "stdout",
     "output_type": "stream",
     "text": [
      "Explained variance score: 0.35920949931140067\n"
     ]
    },
    {
     "data": {
      "text/plain": [
       "[<matplotlib.lines.Line2D at 0x7febdb275cf8>]"
      ]
     },
     "execution_count": 15,
     "metadata": {},
     "output_type": "execute_result"
    },
    {
     "data": {
      "image/png": "[encoded data removed]",
      "text/plain": [
       "<matplotlib.figure.Figure at 0x7fec0c31f5f8>"
      ]
     },
     "metadata": {},
     "output_type": "display_data"
    }
   ],
   "source": [
    "# entrambi i metodi prevengono l'overfitting\n",
    "# Lasso tende a sparsificare\n",
    "# Ridge riduce ma non annulla\n",
    "regressor = linear_model.Ridge(alpha=0.1)\n",
    "regressor.fit(diabetes_X_train, diabetes_y_train)\n",
    "\n",
    "print(\"Explained variance score:\", regressor.score(diabetes_X_test, diabetes_y_test))\n",
    "\n",
    "y_predict = regressor.predict(diabetes_X_test)\n",
    "plt.figure()\n",
    "plt.scatter(diabetes_y_test,y_predict)\n",
    "plt.plot(np.linspace(0,350,100),np.linspace(0,350,100))"
   ]
  },
  {
   "cell_type": "markdown",
   "metadata": {},
   "source": [
    "Both Ridge and Lasso regression depend on a coefficient of regularization, which should be estimated in the learning process. Scikit-learn exposes methods that do ridge/lasso regression and cross-validation in a single step: `RidgeCV` and `LassoCV` (there are more CV methods for Lasso, see the documentation)."
   ]
  },
  {
   "cell_type": "code",
   "execution_count": 16,
   "metadata": {},
   "outputs": [
    {
     "name": "stdout",
     "output_type": "stream",
     "text": [
      "Best alpha: 0.1\n",
      "Explained variance score: 0.3560771304937662\n",
      "111 111\n"
     ]
    },
    {
     "data": {
      "text/plain": [
       "[<matplotlib.lines.Line2D at 0x7febd6eb4828>]"
      ]
     },
     "execution_count": 16,
     "metadata": {},
     "output_type": "execute_result"
    },
    {
     "data": {
      "image/png": "[encoded data removed]",
      "text/plain": [
       "<matplotlib.figure.Figure at 0x7febdb282f28>"
      ]
     },
     "metadata": {},
     "output_type": "display_data"
    }
   ],
   "source": [
    "regressor = linear_model.LassoCV(alphas=np.logspace(-2,2,5))\n",
    "regressor.fit(diabetes_X_train, diabetes_y_train)\n",
    "print(\"Best alpha:\",regressor.alpha_)\n",
    "print(\"Explained variance score:\", regressor.score(diabetes_X_test, diabetes_y_test))\n",
    "\n",
    "\n",
    "y_predict = regressor.predict(diabetes_X_test)\n",
    "\n",
    "print(len(diabetes_X_test), len(y_predict))\n",
    "plt.figure()\n",
    "plt.scatter(diabetes_y_test,y_predict)\n",
    "plt.plot(np.linspace(0,350,100),np.linspace(0,350,100))"
   ]
  },
  {
   "cell_type": "markdown",
   "metadata": {},
   "source": [
    "#### Exercise\n",
    "Explore Scikit-learn to find how to construct linear models with general basis functions. Try a quadratic linear predictor on the diabetes dataset."
   ]
  },
  {
   "cell_type": "code",
   "execution_count": 21,
   "metadata": {},
   "outputs": [],
   "source": [
    "from sklearn.preprocessing import PolynomialFeatures\n",
    "# help(PolynomialFeatures)"
   ]
  },
  {
   "cell_type": "code",
   "execution_count": 22,
   "metadata": {},
   "outputs": [
    {
     "ename": "NameError",
     "evalue": "name 'poly' is not defined",
     "output_type": "error",
     "traceback": [
      "\u001b[0;31m---------------------------------------------------------------------------\u001b[0m",
      "\u001b[0;31mNameError\u001b[0m                                 Traceback (most recent call last)",
      "\u001b[0;32m<ipython-input-22-85788b2bfaf7>\u001b[0m in \u001b[0;36m<module>\u001b[0;34m()\u001b[0m\n\u001b[0;32m----> 1\u001b[0;31m \u001b[0mnew_X_train\u001b[0m \u001b[0;34m=\u001b[0m \u001b[0mpoly\u001b[0m\u001b[0;34m.\u001b[0m\u001b[0mfit_transform\u001b[0m\u001b[0;34m(\u001b[0m\u001b[0mdiabetes_X_train\u001b[0m\u001b[0;34m,\u001b[0m \u001b[0mdiabetes_y_train\u001b[0m\u001b[0;34m)\u001b[0m\u001b[0;34m\u001b[0m\u001b[0m\n\u001b[0m\u001b[1;32m      2\u001b[0m \u001b[0;34m\u001b[0m\u001b[0m\n\u001b[1;32m      3\u001b[0m \u001b[0mprint\u001b[0m\u001b[0;34m(\u001b[0m\u001b[0mlen\u001b[0m\u001b[0;34m(\u001b[0m\u001b[0mnew_X_train\u001b[0m\u001b[0;34m)\u001b[0m\u001b[0;34m,\u001b[0m \u001b[0mlen\u001b[0m\u001b[0;34m(\u001b[0m\u001b[0mdiabetes_X_train\u001b[0m\u001b[0;34m)\u001b[0m\u001b[0;34m)\u001b[0m\u001b[0;34m\u001b[0m\u001b[0m\n\u001b[1;32m      4\u001b[0m \u001b[0mprint\u001b[0m\u001b[0;34m(\u001b[0m\u001b[0mlen\u001b[0m\u001b[0;34m(\u001b[0m\u001b[0mdiabetes_X_test\u001b[0m\u001b[0;34m)\u001b[0m\u001b[0;34m,\u001b[0m \u001b[0mlen\u001b[0m\u001b[0;34m(\u001b[0m\u001b[0my_predict\u001b[0m\u001b[0;34m)\u001b[0m\u001b[0;34m)\u001b[0m\u001b[0;34m\u001b[0m\u001b[0m\n",
      "\u001b[0;31mNameError\u001b[0m: name 'poly' is not defined"
     ]
    }
   ],
   "source": [
    "new_X_train = poly.fit_transform(diabetes_X_train, diabetes_y_train)\n",
    "\n",
    "print(len(new_X_train), len(diabetes_X_train))\n",
    "print(len(diabetes_X_test), len(y_predict))"
   ]
  },
  {
   "cell_type": "code",
   "execution_count": null,
   "metadata": {},
   "outputs": [],
   "source": [
    "# from sklearn.preprocessing import PolynomialFeatures\n",
    "\n",
    "# poly = PolynomialFeatures(degree=2)\n",
    "# # new_X_train = poly.fit_transform(diabetes_X_train, y=diabetes_y_train)\n",
    "# new_X_train = poly.fit_transform(diabetes_X_train)\n",
    "\n",
    "# regressor = linear_model.LinearRegression()\n",
    "# regressor.fit(new_X_train, diabetes_y_train)\n",
    "\n",
    "# y_predict = regressor.predict(diabetes_X_test)\n",
    "\n",
    "# # poly = PolynomialFeatures(degree=2)\n",
    "# # X_ = poly.fit_transform(X)\n",
    "# # predict_ = poly.fit_transform(predict)\n",
    "# # clf = linear_model.LinearRegression()\n",
    "# # clf.fit(X_, vector)\n",
    "# # print clf.predict(predict_)\n",
    "\n",
    "\n",
    "# # regressor = linear_model.LassoCV(alphas=np.logspace(-2,2,5))\n",
    "# # regressor.fit(diabetes_X_train, diabetes_y_train)\n",
    "# # print(\"Best alpha:\",regressor.alpha_)\n",
    "# # print(\"Explained variance score:\", regressor.score(diabetes_X_test, diabetes_y_test))\n",
    "# # y_predict = regressor.predict(diabetes_X_test)\n",
    "\n",
    "# # plt.figure()\n",
    "# # plt.scatter(diabetes_y_test, y_predict)\n",
    "# # plt.plot(np.linspace(0,350,100),np.linspace(0,350,100))"
   ]
  },
  {
   "cell_type": "markdown",
   "metadata": {},
   "source": [
    "### Cross validation\n",
    "Setting regularisation parameters or controlling model complexity in a frequentist setting can be achieved using cross validation. Scikit learn implements a nice interface for cross validation and to optimize hyperparameters. \n",
    "\n",
    "To fully exploit cross validation, we need to use cross validation iterators, available in the module `sklearn.model_selection`. These are objects that generate the proper splits of the train dataset. Examples are:\n",
    "* `KFold` is for k fold cross validation, use `n_splits` to set the number of splits.\n",
    "* `RepeatedKFold`, like k-fold, but repeated `n_repeats` times. By setting `random_state` we can replicat experiments. \n",
    "* `LeaveOneOut` is for leave one out  (LOO) cross validation. In terms of accuracy, LOO often results in high variance as an estimator for the test error, and 5- or 10- fold cross validation should be preferred to LOO, though if the learning curve is steep for the training size in question, then 5- or 10- fold cross validation can overestimate the generalization error.\n",
    "* `ShuffleSplit` generates a user defined number of independent train / test dataset splits, with the test size specified by the option `test_size`. Samples are first shuffled and then split into a pair of train and test sets.\n",
    "It is possible to control the randomness for reproducibility of the results by explicitly seeding the `random_state` pseudo random number generator.\n",
    "* `StratifiedKFold` it's like `KFold`, but using stratified sampling, i.e. it preserves the percentage of samples of each target class as the complete set.\n",
    "\n",
    "The previous methods work with i.i.d. data, an assumption violated if the underlying generative process yield groups of dependent samples (i.e. medical data collected from multiple patients, with multiple samples taken from each patient). In this case, if we know the group for each data point, we can use `GroupKFold` or `LeaveOneGroupOut`. See the Scikit-learn [documentation](http://scikit-learn.org/stable/modules/cross_validation.html) for further details. \n",
    "\n"
   ]
  },
  {
   "cell_type": "code",
   "execution_count": null,
   "metadata": {},
   "outputs": [],
   "source": [
    "from sklearn import model_selection\n",
    "kf_cv = model_selection.KFold(n_splits=3)\n",
    "for train, test in kf_cv.split(['a','b','c','d', 'e','f']):\n",
    "    print(\"%s %s\" %  (train, test))\n",
    "#see the KFold outputs indices of train and test sets. "
   ]
  },
  {
   "cell_type": "markdown",
   "metadata": {},
   "source": [
    "In order to perform cross validation on a specific estimator, we can use the `cross_val_score` function, which takes as input:\n",
    "1. an estimator\n",
    "2. train and test datasets\n",
    "3. a cross_validation iterator, with the option `cv`\n",
    "4. a scoring criterion, with the option `scoring`.\n",
    "\n",
    "The method computes the scores for a fixed value of hyperparameters!\n",
    "\n",
    "The function `cross_val_predict` has a similar interface to cross_val_score, but returns, for each element in the input, the prediction that was obtained for that element when it was in the test set. Only cross-validation strategies that assign all elements to a test set exactly once can be used (otherwise, an exception is raised)."
   ]
  },
  {
   "cell_type": "code",
   "execution_count": null,
   "metadata": {},
   "outputs": [],
   "source": [
    "scoring = ['explained_variance', 'neg_mean_squared_error', 'neg_mean_absolute_error', 'r2']\n",
    "regressor = linear_model.Ridge(alpha=0.1)\n",
    "kf_cv = model_selection.KFold(n_splits=5)\n",
    "\n",
    "\n",
    "scores = model_selection.cross_val_score(regressor, diabetes.data, diabetes.target, scoring='r2',cv=kf_cv)\n",
    "print(\"SV score:\", scores.mean(),\"±\",scores.std(),\"\\n\")\n",
    "\n",
    "regressor = linear_model.Ridge(alpha=0.1)\n",
    "prediction = model_selection.cross_val_predict(regressor, diabetes.data, diabetes.target, cv=kf_cv)\n",
    "for i in range(5):\n",
    "    print(\"predicted:\",prediction[i],\"- true\",diabetes.target[i])"
   ]
  },
  {
   "cell_type": "markdown",
   "metadata": {},
   "source": [
    "##### Optimizing hyperparameters with cross-validation\n",
    "In order to optimize parameters, we can rely on built-in methods in the `model_selection` module, which perform either grid search or random search. The first explores all hyperparameters combinations ona  grid (can explote computationally), which the second performs random search, exploring only a fixed subset of random points. \n",
    "\n",
    "Which are the hyperparameters of an estimator? We can get them using `estimator.get_params()` method. \n",
    "\n",
    "A search consists of:\n",
    "* an estimator (regressor or classifier such as sklearn.svm.SVC());\n",
    "* a parameter space, specified as a dictionary or list of dictionaries;\n",
    "* a method for searching or sampling candidates;\n",
    "* a cross-validation scheme; \n",
    "* a score function.\n",
    "\n",
    "`GridSearchCV` performs the grid search, while `RandomizedSearchCV` does the randomised search, and requires also the specification of a computational budget using the `n_iter` options. The option `n_jobs=-1` uses maximum number of parallel threads/ processes to perform the CV search. "
   ]
  },
  {
   "cell_type": "code",
   "execution_count": null,
   "metadata": {},
   "outputs": [],
   "source": [
    "regressor = linear_model.Ridge()\n",
    "parameters = {'alpha':np.logspace(-5,2,8)}\n",
    "score = 'r2'\n",
    "kf = model_selection.KFold(n_splits=5)\n",
    "clf = model_selection.GridSearchCV(regressor, parameters,cv=kf,scoring=score,n_jobs=-1)\n",
    "clf.fit(diabetes.data, diabetes.target)\n",
    "print(clf.best_params_)\n"
   ]
  },
  {
   "cell_type": "code",
   "execution_count": null,
   "metadata": {},
   "outputs": [],
   "source": [
    "means = clf.cv_results_['mean_test_score']\n",
    "stds = clf.cv_results_['std_test_score']\n",
    "for mean, std, params in zip(means, stds, clf.cv_results_['params']):\n",
    "        print(\"%0.9f (+/-%0.03f) for %r\" % (mean, std * 2, params))"
   ]
  },
  {
   "cell_type": "code",
   "execution_count": null,
   "metadata": {},
   "outputs": [],
   "source": [
    "from scipy import stats\n",
    "regressor = linear_model.Ridge()\n",
    "#note, for randomised search we pass a continuous distribution for continuos parameters.\n",
    "parameters = {'alpha': stats.expon(scale=0.001)}\n",
    "score = 'r2'\n",
    "kf = model_selection.KFold(n_splits=5)\n",
    "clf = model_selection.RandomizedSearchCV(regressor, parameters,cv=kf,scoring=score,n_jobs=-1,n_iter = 10)\n",
    "# usare verbose per fare un log del fitting!\n",
    "\n",
    "clf.fit(diabetes.data, diabetes.target)\n",
    "print(clf.best_params_)\n",
    "\n",
    "means = clf.cv_results_['mean_test_score']\n",
    "stds = clf.cv_results_['std_test_score']\n",
    "for mean, std, params in zip(means, stds, clf.cv_results_['params']):\n",
    "        print(\"%0.9f (+/-%0.03f) for %r\" % (mean, std * 2, params))\n"
   ]
  },
  {
   "cell_type": "markdown",
   "metadata": {},
   "source": [
    "### Classification\n",
    "Classification is a task similar to regression in Scikit-learn, we just need to instantiate the proper objects. \n",
    "`LogisticRegression` is probably the most famous classifier, and in Scikit-learn comes with a built-in regularization L2 regularization. `C` here control the regularization strenght, but the larger it is the less regularization! L1 penalty can be set by `penalty='l1'` option."
   ]
  },
  {
   "cell_type": "code",
   "execution_count": null,
   "metadata": {},
   "outputs": [],
   "source": [
    "# C is the inverse of alpha\n",
    "logistic = linear_model.LogisticRegression(C=1e5)\n",
    "logistic.fit(iris_X_train, iris_y_train)\n",
    "print(\"Classification accuracy:\",logistic.score(iris_X_test,iris_y_test))"
   ]
  },
  {
   "cell_type": "markdown",
   "metadata": {},
   "source": [
    "There are many classification algorithms in Scikit-learn, like nearest neighbours, decision trees, support vector machines, and many others. "
   ]
  },
  {
   "cell_type": "code",
   "execution_count": null,
   "metadata": {},
   "outputs": [],
   "source": [
    "from sklearn import neighbors\n",
    "\n",
    "neigh_class = neighbors.KNeighborsClassifier(n_neighbors=5, weights=\"distance\")\n",
    "neigh_class.fit(iris_X_train, iris_y_train)\n",
    "print(\"Classification accuracy:\",neigh_class.score(iris_X_test,iris_y_test))"
   ]
  },
  {
   "cell_type": "code",
   "execution_count": null,
   "metadata": {},
   "outputs": [],
   "source": [
    "from sklearn import svm\n",
    "\n",
    "svc = svm.SVC(kernel='linear', C = 1)\n",
    "svc.fit(iris_X_train, iris_y_train)    \n",
    "print(\"Classification accuracy (linear):\", svc.score(iris_X_test,iris_y_test))\n",
    "\n",
    "svc = svm.SVC(kernel='poly', degree=3)\n",
    "svc.fit(iris_X_train, iris_y_train)    \n",
    "print(\"Classification accuracy (poly):\", svc.score(iris_X_test,iris_y_test))\n",
    "\n",
    "\n",
    "svc = svm.SVC(kernel='rbf',C=1.0)\n",
    "svc.fit(iris_X_train, iris_y_train)    \n",
    "print(\"Classification accuracy (rbf):\", svc.score(iris_X_test,iris_y_test))"
   ]
  },
  {
   "cell_type": "markdown",
   "metadata": {},
   "source": [
    "When specifying a parameter space for grid (or random) search, we can also pass a list of dictionaries, like in the following set of parameters for SVC. \n",
    "```\n",
    "param_grid = [\n",
    "  {'C': [1, 10, 100, 1000], 'kernel': ['linear']},\n",
    "  {'C': [1, 10, 100, 1000], 'gamma': [0.001, 0.0001], 'kernel': ['rbf']},\n",
    " ]\n",
    "```"
   ]
  },
  {
   "cell_type": "markdown",
   "metadata": {},
   "source": [
    "#### Exercise\n",
    "Run cross validation with SVM on rbf and poly kernel, trying to improve over basic results, playing with the regulariser `C`. "
   ]
  },
  {
   "cell_type": "code",
   "execution_count": null,
   "metadata": {},
   "outputs": [],
   "source": [
    "values = np.arange(1.0,5.,0.5)\n",
    "# values = [1, 10, 100, 1000]\n",
    "\n",
    "print(\"Classification accuracy (rbf):\")\n",
    "rbf_results= list()\n",
    "for x in values:\n",
    "    svc = svm.SVC(kernel='rbf',C=x)\n",
    "    svc.fit(iris_X_train, iris_y_train)\n",
    "    accuracy = svc.score(iris_X_test,iris_y_test)\n",
    "    print(\"C=\", x,\", accuracy=\", accuracy)\n",
    "    rbf_results.append(accuracy)\n",
    "    \n",
    "plt.plot(results)\n",
    "plt.show()\n",
    "\n",
    "print(\"Classification accuracy (linear):\")\n",
    "rbf_results= list()\n",
    "for x in values:\n",
    "    svc = svm.SVC(kernel='linear',C=x)\n",
    "    svc.fit(iris_X_train, iris_y_train)\n",
    "    accuracy = svc.score(iris_X_test,iris_y_test)\n",
    "    print(\"C=\", x,\", accuracy=\", accuracy)\n",
    "    rbf_results.append(accuracy)\n",
    "plt.plot(results)\n",
    "plt.show()\n",
    "\n",
    "degrees = range(2,6)\n",
    "print(\"\\nClassification accuracy (poly):\")\n",
    "poly_results= list()\n",
    "for x in degrees:\n",
    "    svc = svm.SVC(kernel='poly',degree=x)\n",
    "    svc.fit(iris_X_train, iris_y_train)\n",
    "    accuracy = svc.score(iris_X_test,iris_y_test)\n",
    "    print(\"degree=\", x,\", accuracy=\", accuracy)\n",
    "    poly_results.append(accuracy)\n",
    "plt.plot(poly_results)\n",
    "plt.show()"
   ]
  },
  {
   "cell_type": "markdown",
   "metadata": {},
   "source": [
    "### Model Scoring\n",
    "Scikit-learn implements many different ways of scoring models, both for regression, classification, clustering, etc. \n",
    "You can find a detailed list and discussion in the [online reference](http://scikit-learn.org/stable/modules/model_evaluation.html).\n",
    "\n",
    "* **Estimator score** method: each estimators has a default score method, see each estimator’s documentation.\n",
    "* **Scoring parameter**: cross-validation rely on an internal scoring strategy. One can pass a predefined Scorer object, or a custom scorer, maybe obtained from a metrics. \n",
    "* **Metric functions**: the `metrics` module implements functions assessing prediction error for specific purposes. \n",
    "\n",
    "In the list of predefined scores, and also in metrics, particularly for multi-class classification, there are some attributes that govern how binary classification is used to score the multi-class case (e.g. `f1`,`f1_micro`,`f1_macro`,`f1_weighted`,`f1_samples`).\n",
    "* `macro` simply calculates the mean of the binary metrics, giving equal weight to each class. In problems where infrequent classes are nonetheless important, macro-averaging may be a means of highlighting their performance. On the other hand, the assumption that all classes are equally important is often untrue, such that macro-averaging will over-emphasize the typically low performance on an infrequent class.\n",
    "* `weighted` accounts for class imbalance by computing the average of binary metrics in which each class’s score is weighted by its presence in the true data sample.\n",
    "* `micro` gives each sample-class pair an equal contribution to the overall metric (except as a result of sample-weight). Rather than summing the metric per class, this sums the dividends and divisors that make up the per-class metrics to calculate an overall quotient. Micro-averaging may be preferred in multilabel settings, including multiclass classification where a majority class is to be ignored.\n",
    "* `samples` applies only to multilabel problems. It does not calculate a per-class measure, instead calculating the metric over the true and predicted classes for each sample in the evaluation data, and returning their (sample_weight-weighted) average.\n",
    "\n"
   ]
  },
  {
   "cell_type": "code",
   "execution_count": null,
   "metadata": {},
   "outputs": [],
   "source": [
    "from sklearn import metrics\n",
    "\n",
    "clf = svm.SVC(kernel='linear', C=1)\n",
    "scores = model_selection.cross_val_score(clf, iris.data, iris.target, cv=10)\n",
    "print(\"score:\",\"accuracy\",\":\",scores.mean(),\"±\",scores.std())\n",
    "\n",
    "scorers = ['precision_macro','recall_macro','f1_macro']\n",
    "for sc in scorers:\n",
    "    scores = model_selection.cross_val_score(clf, iris.data, iris.target, cv=10, scoring=sc)\n",
    "    print(\"score:\",sc,\":\",scores.mean(),\"±\",scores.std())"
   ]
  },
  {
   "cell_type": "markdown",
   "metadata": {},
   "source": [
    "##### Make your own scorer\n",
    "An alternativa to predifined scorer objects is to generate a custom one, likely starting from a function in the  module `sklearn.metrics`. We can convert them using the `make_scorer` method. Note that the following convention on functions of  `sklearn.metrics` apply:\n",
    "* functions ending with `_score` return a value to maximize, the higher the better.\n",
    "* functions ending with `_error` or `_loss` return a value to minimize, the lower the better. When converting into a scorer object, set the `greater_is_better` parameter to `False`.\n",
    "\n",
    "\n",
    "As an example we will craft a F-beta scorer, with beta equal to 2. The F-beta score is the weighted harmonic mean of precision and recall, reaching its optimal value at 1 and its worst value at 0. The beta parameter determines the weight of precision in the combined score. beta < 1 lends more weight to precision, while beta > 1 favors recall (beta -> 0 considers only precision, beta -> inf only recall). This roeks for a two class problem. \n",
    "\n",
    "\n"
   ]
  },
  {
   "cell_type": "code",
   "execution_count": null,
   "metadata": {},
   "outputs": [],
   "source": [
    "ftwo_scorer = metrics.make_scorer(metrics.fbeta_score, beta=2)\n",
    "grid = model_selection.GridSearchCV(svm.SVC(kernel='linear'), cv=5, param_grid={'C': np.logspace(-1,3,5)}, scoring=ftwo_scorer)\n",
    "#make a random dataset for testing\n",
    "X, y = datasets.make_classification(n_samples=200)\n",
    "X_train, X_test, y_train, y_test = train_test_split(X, y, test_size=0.3, random_state=10)\n",
    "clf = grid.fit(X_train,y_train)\n",
    "clf.fit(X_train,y_train)\n",
    "print(\"Linear SVM, score:\",clf.score(X_test,y_test))\n",
    "print(\"Linear SVM, best params:\",clf.best_params_)\n"
   ]
  },
  {
   "cell_type": "code",
   "execution_count": null,
   "metadata": {},
   "outputs": [],
   "source": [
    "# this is a nice summary for classification\n",
    "target_names = ['class 0', 'class 1']\n",
    "print(metrics.classification_report(y_test, clf.predict(X_test), target_names=target_names))"
   ]
  },
  {
   "cell_type": "markdown",
   "metadata": {},
   "source": [
    "### Dimensionality Reduction\n",
    "When working with high-dimensional data, it can be a clever idea to try to reduce dimensionality. The most common approach is PCA, which finds the best linear projection of data Ii.e. the one explaining most of the variance).  \n",
    "\n",
    "PCA in Scikit-learn is in the module `decomposition`, and it can be used to transform/ preprocess data (also in pipelines, see below). "
   ]
  },
  {
   "cell_type": "code",
   "execution_count": null,
   "metadata": {},
   "outputs": [],
   "source": [
    "from sklearn import decomposition\n",
    "\n",
    "pca = decomposition.PCA(n_components = 8,whiten=True)\n",
    "pca.fit(diabetes_X_train)\n",
    "\n",
    "# la somma degli autovalori è la varianze\n",
    "print(\"Explained variance of PCA:\",pca.explained_variance_)\n",
    "print(\"Noise variance:\",pca.noise_variance_) # media delle varianze\n",
    "\n",
    "\n",
    "regressor = linear_model.Ridge(alpha=0.1)\n",
    "regressor.fit(pca.transform(diabetes_X_train),diabetes_y_train)\n",
    "\n",
    "# score della regressione\n",
    "print(\"Explained variance:\",regressor.score(pca.transform(diabetes_X_test),diabetes_y_test)) "
   ]
  },
  {
   "cell_type": "markdown",
   "metadata": {},
   "source": [
    "### Pipelining\n",
    "Pipeline can be used to chain multiple estimators into one. This is useful as there is often a fixed sequence of steps in processing the data, for example feature selection, normalization and classification. All estimators in a pipeline, except the last one, must be transformers (i.e. must have a transform method). The last estimator may be any type (transformer, classifier, etc.).\n",
    "\n",
    "Pipeline serves two purposes here:\n",
    "* **Convenience and encapsulation:** fit and predict need to be called only once on the data.\n",
    "* **Joint parameter selection:** to grid search over parameters of all estimators in the pipeline at once.\n",
    "* **Safety:** to avoid leaking statistics from your test data into the trained model in cross-validation, by ensuring that the same samples are used to train the transformers and predictors.\n"
   ]
  },
  {
   "cell_type": "code",
   "execution_count": null,
   "metadata": {},
   "outputs": [],
   "source": [
    "from sklearn import pipeline\n",
    "estimators = [('scaler', preprocessing.StandardScaler()), ('clf', svm.SVC(kernel='rbf',gamma=1.0,C=1.0))]\n",
    "pipe = pipeline.Pipeline(estimators)\n",
    "pipe.fit(iris_X_train,iris_y_train)\n",
    "\n",
    "y_predict = pipe.predict(iris_X_test)\n",
    "print(\"Explained variance:\",pipe.score(iris_X_test,iris_y_test))\n",
    "\n",
    "print(metrics.classification_report(iris_y_test, y_predict, target_names=iris.target_names))"
   ]
  },
  {
   "cell_type": "code",
   "execution_count": null,
   "metadata": {},
   "outputs": [],
   "source": [
    "#this is the way to refer to parameters of each estimator\n",
    "pipe.set_params(clf__C=10)"
   ]
  },
  {
   "cell_type": "code",
   "execution_count": null,
   "metadata": {},
   "outputs": [],
   "source": [
    "#this accesses the estimator\n",
    "pipe.named_steps['clf']\n",
    "# use pipe.steps[0] for step 0 etc."
   ]
  },
  {
   "cell_type": "code",
   "execution_count": null,
   "metadata": {
    "scrolled": false
   },
   "outputs": [],
   "source": [
    "#why this behaves so strangely?\n",
    "\n",
    "import warnings\n",
    "warnings.filterwarnings('ignore')\n",
    "\n",
    "param_grid = dict(clf__C=np.linspace(0.1,2,11), clf__gamma=[0.5,1,1.5,2,2.5])\n",
    "grid = model_selection.GridSearchCV(pipe, param_grid=param_grid, cv=5, scoring = \"f1_macro\")\n",
    "clf = grid.fit(iris_X_train,iris_y_train)\n",
    "print(grid.best_params_)\n",
    "clf.fit(iris_X_train,iris_y_train)\n",
    "y_predict = clf.predict(iris_X_test)\n",
    "print(metrics.classification_report(iris_y_test, y_predict , target_names=iris.target_names))"
   ]
  },
  {
   "cell_type": "markdown",
   "metadata": {},
   "source": [
    "### Gaussian processes for prediction"
   ]
  },
  {
   "cell_type": "code",
   "execution_count": null,
   "metadata": {},
   "outputs": [],
   "source": [
    "import pandas as pd"
   ]
  },
  {
   "cell_type": "code",
   "execution_count": null,
   "metadata": {},
   "outputs": [],
   "source": [
    "data = pd.read_csv('co2/co2_weekly_mlo.txt', skiprows=49, sep=\"\\s+\", header=None, names = [\"yr\", \"mon\", \"day\", \"decimal\", \"ppm\", \"days\" , \"1_yr_ago\",  \"10_yr_ago\" , \"since_1800\"])\n",
    "data.head()\n"
   ]
  },
  {
   "cell_type": "code",
   "execution_count": null,
   "metadata": {},
   "outputs": [],
   "source": [
    "data['ppm'].replace(-999.9900, np.nan, inplace=True)\n",
    "data.iloc[72]"
   ]
  },
  {
   "cell_type": "code",
   "execution_count": null,
   "metadata": {},
   "outputs": [],
   "source": [
    "from sklearn.gaussian_process import GaussianProcessRegressor\n",
    "from sklearn.gaussian_process.kernels \\\n",
    "    import RBF, WhiteKernel, RationalQuadratic, ExpSineSquared"
   ]
  },
  {
   "cell_type": "code",
   "execution_count": null,
   "metadata": {},
   "outputs": [],
   "source": [
    "size = int(len(data)*0.6)\n",
    "train = data[0:size]\n",
    "test = data[size:len(data)]\n",
    "\n",
    "kernel = RBF(length_scale=67.0)\n",
    "\n",
    "gp = GaussianProcessRegressor(kernel, alpha=0,\n",
    "                              optimizer=None, normalize_y=True)\n",
    "gp.fit(train['decimal'], train['ppm'])"
   ]
  }
 ],
 "metadata": {
  "anaconda-cloud": {},
  "kernelspec": {
   "display_name": "Python [conda root]",
   "language": "python",
   "name": "conda-root-py"
  },
  "language_info": {
   "codemirror_mode": {
    "name": "ipython",
    "version": 3
   },
   "file_extension": ".py",
   "mimetype": "text/x-python",
   "name": "python",
   "nbconvert_exporter": "python",
   "pygments_lexer": "ipython3",
   "version": "3.5.2"
  }
 },
 "nbformat": 4,
 "nbformat_minor": 2
}
