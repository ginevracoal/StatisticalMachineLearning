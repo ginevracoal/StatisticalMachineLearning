{
 "cells": [
  {
   "cell_type": "markdown",
   "metadata": {},
   "source": [
    "## USING PYMC library\n",
    "PyMC is a library for Bayesian inference, which allows us to run Markov Chain Monte Carlo simulations, and use them to do estimations or sample from distributions.\n",
    "\n",
    "In this file, we will illustrate two basic examples that should give an idea on how to use the library. \n",
    "You can check the online documentation at https://pymc-devs.github.io/pymc/index.html\n",
    "\n",
    "At the end of the notebook, there is an exercise to start using the library for parameter inference in Markov models. "
   ]
  },
  {
   "cell_type": "code",
   "execution_count": 36,
   "metadata": {},
   "outputs": [],
   "source": [
    "%matplotlib inline"
   ]
  },
  {
   "cell_type": "code",
   "execution_count": 37,
   "metadata": {},
   "outputs": [],
   "source": [
    "import numpy as np\n",
    "from pymc import Normal, Categorical, deterministic, Model, MCMC, stochastic, Beta, MAP\n",
    "from pymc.Matplot import plot\n",
    "from pylab import hist, show\n",
    "from numpy.random import choice\n",
    "import math"
   ]
  },
  {
   "cell_type": "markdown",
   "metadata": {},
   "source": [
    "#### Sampling from a distribution\n",
    "In this example we sample from a mixture of two Gaussians.\n",
    "The idea to define it is to use both built-in variables of PyMC and user defined variables, in this case deterministic.\n",
    "\n",
    "The root variable (i.e. the indepedent one) is a **stochastic** `Categorical` one, which chooses the component of the mixture.\n",
    "Given this variable, we define two **deterministic** functions, which take the value of the categorical variable and return mean and precision (1/variance) of the corresponding Gaussian component. These are constructed using a python decorator, `@deterministic` which applies a PyMC function (`determinstic`) to what comes after. It is like defining e.g. `mu`, and then having a line like `mu = deterministic(mu)`. \n",
    "\n",
    "Then another stochastic variable, `Normal`, is defined, with mean and precision calculated above. \n",
    "Finally a PyMC model is constructed."
   ]
  },
  {
   "cell_type": "code",
   "execution_count": 38,
   "metadata": {},
   "outputs": [],
   "source": [
    "#build a pymc model: this is a mixture of Gaussians. \n",
    "#This is the model we will sample from \n",
    "sigmas = [1,1]\n",
    "centers = [0,3]\n",
    "alpha=0.8\n",
    "category = Categorical(\"category\", [alpha, 1 - alpha])\n",
    "\n",
    "@deterministic\n",
    "def mu(category=category, centers=centers):\n",
    "    return centers[category]\n",
    "\n",
    "@deterministic\n",
    "def tau(category=category, sigmas=sigmas):\n",
    "    return 1/(sigmas[category]**2)\n",
    "\n",
    "mixture = Normal('mixture', mu=mu, tau=tau)\n",
    "model = Model([mixture])\n"
   ]
  },
  {
   "cell_type": "markdown",
   "metadata": {},
   "source": [
    "##### Sampling from a model\n",
    "The hard part is building the model. The sampling is easy: one defines a MCMC object, samples it, and the plots the trace of the variables of interest (note how each variable has a name to identify it)."
   ]
  },
  {
   "cell_type": "code",
   "execution_count": 39,
   "metadata": {},
   "outputs": [
    {
     "name": "stdout",
     "output_type": "stream",
     "text": [
      " [-----------------100%-----------------] 10000 of 10000 complete in 0.8 sec"
     ]
    }
   ],
   "source": [
    "#MCMC sampling\n",
    "M = MCMC(model)\n",
    "M.sample(iter=10000, burn=1000, thin=10)"
   ]
  },
  {
   "cell_type": "code",
   "execution_count": 40,
   "metadata": {},
   "outputs": [
    {
     "data": {
      "image/png": "[encoded data removed]",
      "text/plain": [
       "<matplotlib.figure.Figure at 0x7fbb6aa21c50>"
      ]
     },
     "metadata": {},
     "output_type": "display_data"
    }
   ],
   "source": [
    "#plot(M)\n",
    "hist(M.trace('mixture')[:],bins=50)\n",
    "show()\n"
   ]
  },
  {
   "cell_type": "code",
   "execution_count": 41,
   "metadata": {},
   "outputs": [
    {
     "data": {
      "image/png": "[encoded data removed]",
      "text/plain": [
       "<matplotlib.figure.Figure at 0x7fbb6a90e2b0>"
      ]
     },
     "metadata": {},
     "output_type": "display_data"
    }
   ],
   "source": [
    "#plot(M)\n",
    "hist(M.trace('mixture')[:],bins=math.floor(math.sqrt(len(M.trace('mixture')[:]))))\n",
    "show()"
   ]
  },
  {
   "cell_type": "markdown",
   "metadata": {},
   "source": [
    "#### Bayesian inference and user defined stochastic variables\n",
    "Here we want to do Bayesian inference for a Bernoulli r.v. with parameter p. \n",
    "We will define a prior for p, in this case a uniform Beta, then build a user defined model for the Bernoulli variable.\n",
    "\n",
    "The user defined process uses a `@stochastic` decorator, in this case flagging `observed = True`, which assumes the output of this process is observed. One defines two subfunctions, one computing the log-likelihood and the second to sample from it. Note how the value passed to `my_process` is the vector of the observed values, and we need to compute the log-likelihood of the whole vector in `logp`. "
   ]
  },
  {
   "cell_type": "code",
   "execution_count": 42,
   "metadata": {
    "scrolled": true
   },
   "outputs": [],
   "source": [
    "#sets us an uniform prior\n",
    "a = 1\n",
    "b = 1\n",
    "beta = Beta('parameter',a,b)\n",
    "\n",
    "#generates observations\n",
    "N_obs = 1000\n",
    "p_true = 0.67\n",
    "observed_values = choice(2, N_obs, p=[1-p_true,p_true])\n",
    "\n",
    "@stochastic(observed = True, dtype = np.int)\n",
    "def my_process(value = observed_values, prob = beta):\n",
    "    \"\"\"An example of a user defined stochastic process.\"\"\"\n",
    "\n",
    "    def logp(value,prob):\n",
    "        if prob > 1 or prob < 0:\n",
    "            return -np.inf\n",
    "        else:\n",
    "            return np.sum(value*np.log(prob) + (1-value)* np.log(1-prob))\n",
    "\n",
    "    def random(prob):\n",
    "        return choice(2, 1, p=[1-prob,prob])\n",
    "    "
   ]
  },
  {
   "cell_type": "markdown",
   "metadata": {},
   "source": [
    "##### Posterior approximation or MAP\n",
    "Once the model is defined, we can sample from the posterior of the parameter, given the observations, or do Maximum a posteriori inference. "
   ]
  },
  {
   "cell_type": "code",
   "execution_count": 43,
   "metadata": {},
   "outputs": [
    {
     "name": "stdout",
     "output_type": "stream",
     "text": [
      " [-----------------100%-----------------] 10000 of 10000 complete in 0.5 sec"
     ]
    },
    {
     "data": {
      "image/png": "[encoded data removed]",
      "text/plain": [
       "<matplotlib.figure.Figure at 0x7fbb6e5deef0>"
      ]
     },
     "metadata": {},
     "output_type": "display_data"
    }
   ],
   "source": [
    "model_inference = Model([my_process,beta])\n",
    "M = MCMC(model_inference)\n",
    "M.sample(iter=10000, burn=1000, thin=10)\n",
    "hist(M.trace('parameter')[:],bins=50)\n",
    "show()\n"
   ]
  },
  {
   "cell_type": "code",
   "execution_count": 44,
   "metadata": {},
   "outputs": [
    {
     "name": "stdout",
     "output_type": "stream",
     "text": [
      "optimal value of parameter is 0.6759999969737311 BIC is 1266.6034761997391\n"
     ]
    }
   ],
   "source": [
    "Mp = MAP(model_inference)\n",
    "Mp.fit()\n",
    "p_opt =  Mp.get_node('parameter').get_value()\n",
    "BIC = Mp.BIC\n",
    "print(\"optimal value of parameter is\",p_opt,\"BIC is\",BIC)\n"
   ]
  },
  {
   "cell_type": "markdown",
   "metadata": {},
   "source": [
    "### Exercise\n",
    "Do inference for a gaussian mixture model with 3 components, using the data in moodle for soft clustering with mixtures of Gaussians. Infer both the mixture wegihts and the Gaussian parameters. What do you expect? Unimodal distributions for (vedi moodle)"
   ]
  }
 ],
 "metadata": {
  "anaconda-cloud": {},
  "kernelspec": {
   "display_name": "Python [conda root]",
   "language": "python",
   "name": "conda-root-py"
  },
  "language_info": {
   "codemirror_mode": {
    "name": "ipython",
    "version": 3
   },
   "file_extension": ".py",
   "mimetype": "text/x-python",
   "name": "python",
   "nbconvert_exporter": "python",
   "pygments_lexer": "ipython3",
   "version": "3.5.2"
  }
 },
 "nbformat": 4,
 "nbformat_minor": 1
}
